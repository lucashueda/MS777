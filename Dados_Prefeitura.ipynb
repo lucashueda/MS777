{
 "cells": [
  {
   "cell_type": "code",
   "execution_count": 32,
   "metadata": {
    "collapsed": true
   },
   "outputs": [],
   "source": [
    "import pandas as pd\n",
    "import numpy as np\n",
    "import matplotlib.pyplot as plt\n",
    "%matplotlib inline"
   ]
  },
  {
   "cell_type": "code",
   "execution_count": 33,
   "metadata": {},
   "outputs": [],
   "source": [
    "data = pd.read_excel(\"2008 a 2016_PREFEITURA.xlsx\", sheetname=\"2010\")"
   ]
  },
  {
   "cell_type": "code",
   "execution_count": 34,
   "metadata": {},
   "outputs": [
    {
     "data": {
      "text/html": [
       "<div>\n",
       "<style>\n",
       "    .dataframe thead tr:only-child th {\n",
       "        text-align: right;\n",
       "    }\n",
       "\n",
       "    .dataframe thead th {\n",
       "        text-align: left;\n",
       "    }\n",
       "\n",
       "    .dataframe tbody tr th {\n",
       "        vertical-align: top;\n",
       "    }\n",
       "</style>\n",
       "<table border=\"1\" class=\"dataframe\">\n",
       "  <thead>\n",
       "    <tr style=\"text-align: right;\">\n",
       "      <th></th>\n",
       "      <th>ANO</th>\n",
       "      <th>MÊS</th>\n",
       "      <th>REGIÃO</th>\n",
       "      <th>MATRÍCULA</th>\n",
       "      <th>IDADE AGORA</th>\n",
       "      <th>IDADE NA ÉPOCA</th>\n",
       "      <th>DATA ATUAL</th>\n",
       "      <th>SEXO</th>\n",
       "      <th>COL</th>\n",
       "      <th>HDL</th>\n",
       "      <th>LDL</th>\n",
       "      <th>TRIG</th>\n",
       "    </tr>\n",
       "  </thead>\n",
       "  <tbody>\n",
       "    <tr>\n",
       "      <th>0</th>\n",
       "      <td>2010</td>\n",
       "      <td>1</td>\n",
       "      <td>58.0</td>\n",
       "      <td>NaN</td>\n",
       "      <td>58.0</td>\n",
       "      <td>51.0</td>\n",
       "      <td>2017-09-11 08:08:06.020</td>\n",
       "      <td>F</td>\n",
       "      <td>200</td>\n",
       "      <td>45</td>\n",
       "      <td>126.0</td>\n",
       "      <td>193</td>\n",
       "    </tr>\n",
       "    <tr>\n",
       "      <th>1</th>\n",
       "      <td>2010</td>\n",
       "      <td>1</td>\n",
       "      <td>58.0</td>\n",
       "      <td>NaN</td>\n",
       "      <td>25.0</td>\n",
       "      <td>18.0</td>\n",
       "      <td>2017-09-11 08:08:06.020</td>\n",
       "      <td>M</td>\n",
       "      <td>156</td>\n",
       "      <td>57</td>\n",
       "      <td>80.0</td>\n",
       "      <td>135</td>\n",
       "    </tr>\n",
       "    <tr>\n",
       "      <th>2</th>\n",
       "      <td>2010</td>\n",
       "      <td>1</td>\n",
       "      <td>60.0</td>\n",
       "      <td>NaN</td>\n",
       "      <td>60.0</td>\n",
       "      <td>53.0</td>\n",
       "      <td>2017-09-11 08:08:06.020</td>\n",
       "      <td>M</td>\n",
       "      <td>165</td>\n",
       "      <td>48</td>\n",
       "      <td>103.0</td>\n",
       "      <td>NaN</td>\n",
       "    </tr>\n",
       "    <tr>\n",
       "      <th>3</th>\n",
       "      <td>2010</td>\n",
       "      <td>1</td>\n",
       "      <td>38.0</td>\n",
       "      <td>NaN</td>\n",
       "      <td>55.0</td>\n",
       "      <td>48.0</td>\n",
       "      <td>2017-09-11 08:08:06.020</td>\n",
       "      <td>M</td>\n",
       "      <td>238</td>\n",
       "      <td>49</td>\n",
       "      <td>143.0</td>\n",
       "      <td>318</td>\n",
       "    </tr>\n",
       "    <tr>\n",
       "      <th>4</th>\n",
       "      <td>2010</td>\n",
       "      <td>1</td>\n",
       "      <td>5.0</td>\n",
       "      <td>NaN</td>\n",
       "      <td>85.0</td>\n",
       "      <td>78.0</td>\n",
       "      <td>2017-09-11 08:08:06.020</td>\n",
       "      <td>F</td>\n",
       "      <td>198</td>\n",
       "      <td>42</td>\n",
       "      <td>127.0</td>\n",
       "      <td>125</td>\n",
       "    </tr>\n",
       "  </tbody>\n",
       "</table>\n",
       "</div>"
      ],
      "text/plain": [
       "    ANO  MÊS  REGIÃO MATRÍCULA  IDADE AGORA  IDADE NA ÉPOCA  \\\n",
       "0  2010    1    58.0       NaN         58.0            51.0   \n",
       "1  2010    1    58.0       NaN         25.0            18.0   \n",
       "2  2010    1    60.0       NaN         60.0            53.0   \n",
       "3  2010    1    38.0       NaN         55.0            48.0   \n",
       "4  2010    1     5.0       NaN         85.0            78.0   \n",
       "\n",
       "               DATA ATUAL SEXO  COL HDL    LDL TRIG  \n",
       "0 2017-09-11 08:08:06.020    F  200  45  126.0  193  \n",
       "1 2017-09-11 08:08:06.020    M  156  57   80.0  135  \n",
       "2 2017-09-11 08:08:06.020    M  165  48  103.0  NaN  \n",
       "3 2017-09-11 08:08:06.020    M  238  49  143.0  318  \n",
       "4 2017-09-11 08:08:06.020    F  198  42  127.0  125  "
      ]
     },
     "execution_count": 34,
     "metadata": {},
     "output_type": "execute_result"
    }
   ],
   "source": [
    "data.drop(['NOME','NASCIMENTO'], axis=1).head()"
   ]
  },
  {
   "cell_type": "code",
   "execution_count": 35,
   "metadata": {},
   "outputs": [
    {
     "data": {
      "text/plain": [
       "(161338, 14)"
      ]
     },
     "execution_count": 35,
     "metadata": {},
     "output_type": "execute_result"
    }
   ],
   "source": [
    "data.shape"
   ]
  },
  {
   "cell_type": "markdown",
   "metadata": {},
   "source": [
    "# Empilhando em uma base só"
   ]
  },
  {
   "cell_type": "markdown",
   "metadata": {},
   "source": [
    "Um critério para que funcione é criar o vetor, na mão, de \"sheetnames\", no nosso caso são os anos, de 2008 à 2016"
   ]
  },
  {
   "cell_type": "code",
   "execution_count": 36,
   "metadata": {},
   "outputs": [
    {
     "data": {
      "text/plain": [
       "['2008', '2009', '2010', '2011', '2012', '2013', '2014', '2015', '2016']"
      ]
     },
     "execution_count": 36,
     "metadata": {},
     "output_type": "execute_result"
    }
   ],
   "source": [
    "sheets = [str(2008+w) for w in range(0,9)]\n",
    "sheets"
   ]
  },
  {
   "cell_type": "code",
   "execution_count": 37,
   "metadata": {},
   "outputs": [],
   "source": [
    "data = []\n",
    "for sheet in sheets:\n",
    "    data.append(pd.read_excel(\"2008 a 2016_PREFEITURA.xlsx\", sheetname=sheet))"
   ]
  },
  {
   "cell_type": "markdown",
   "metadata": {},
   "source": [
    "Para checar se as bases foram lidas corretamente vamos printar algumas informações"
   ]
  },
  {
   "cell_type": "code",
   "execution_count": 38,
   "metadata": {},
   "outputs": [
    {
     "name": "stdout",
     "output_type": "stream",
     "text": [
      "\t A base  0  tem  [2008]  valores unicos de ANO. Sendo o primeiro ano o de:  2008  . A base tem tamanho:  (123671, 14) . \n",
      "\n",
      "\t A base  1  tem  [2009]  valores unicos de ANO. Sendo o primeiro ano o de:  2009  . A base tem tamanho:  (147372, 14) . \n",
      "\n",
      "\t A base  2  tem  [2010]  valores unicos de ANO. Sendo o primeiro ano o de:  2010  . A base tem tamanho:  (161338, 14) . \n",
      "\n",
      "\t A base  3  tem  [2011]  valores unicos de ANO. Sendo o primeiro ano o de:  2011  . A base tem tamanho:  (164472, 14) . \n",
      "\n",
      "\t A base  4  tem  [2012]  valores unicos de ANO. Sendo o primeiro ano o de:  2012  . A base tem tamanho:  (148739, 14) . \n",
      "\n",
      "\t A base  5  tem  [2013]  valores unicos de ANO. Sendo o primeiro ano o de:  2013  . A base tem tamanho:  (145930, 14) . \n",
      "\n",
      "\t A base  6  tem  [2014]  valores unicos de ANO. Sendo o primeiro ano o de:  2014  . A base tem tamanho:  (173730, 14) . \n",
      "\n",
      "\t A base  7  tem  [2015]  valores unicos de ANO. Sendo o primeiro ano o de:  2015  . A base tem tamanho:  (161662, 14) . \n",
      "\n",
      "\t A base  8  tem  [2016]  valores unicos de ANO. Sendo o primeiro ano o de:  2016  . A base tem tamanho:  (180538, 14) . \n",
      "\n"
     ]
    }
   ],
   "source": [
    "for i in range(0,9):\n",
    "    unique = data[i].ANO.unique()\n",
    "    year = data[i].ANO.values[0]\n",
    "    shape = data[i].shape\n",
    "    \n",
    "    print(\"\\t A base \", i,\" tem \", unique, \" valores unicos de ANO. Sendo o primeiro ano o de: \", year, \" . A base tem tamanho: \", shape,\". \\n\")"
   ]
  },
  {
   "cell_type": "markdown",
   "metadata": {},
   "source": [
    "Salvando em CSV cas bases por ano"
   ]
  },
  {
   "cell_type": "code",
   "execution_count": 39,
   "metadata": {},
   "outputs": [],
   "source": [
    "for i in range(0,9):\n",
    "    file = \"PREFEITURA\" + str(sheets[i]) + \".csv\"\n",
    "    data[i].to_csv(file, index = False)"
   ]
  },
  {
   "cell_type": "code",
   "execution_count": 40,
   "metadata": {},
   "outputs": [],
   "source": [
    "# # Checando se deu certo, o encoding muda pois tem acento e esses caracteres diferentes\n",
    "# teste = pd.read_csv(\"PREFEITURA2008.csv\", encoding='latin-1')\n",
    "# teste.shape"
   ]
  },
  {
   "cell_type": "markdown",
   "metadata": {},
   "source": [
    "Criando uma base consolidada com todos os anos, talvez seja melhor para se trabalhar com a base, talvez fique pesado demais"
   ]
  },
  {
   "cell_type": "code",
   "execution_count": 41,
   "metadata": {},
   "outputs": [],
   "source": [
    "full = data[0]\n",
    "\n",
    "for i in range(1,9):\n",
    "    full = pd.concat([full, data[i]], axis = 0)"
   ]
  },
  {
   "cell_type": "code",
   "execution_count": 42,
   "metadata": {},
   "outputs": [],
   "source": [
    "full.to_csv(\"PREFEITURA_FULL.csv\", index = False)"
   ]
  },
  {
   "cell_type": "markdown",
   "metadata": {},
   "source": [
    "# Aqui começa as análises"
   ]
  },
  {
   "cell_type": "markdown",
   "metadata": {},
   "source": [
    "Primeiro vamos tratar as colunas, retirar acentos das variáveis, e tratar variáveis de datas"
   ]
  },
  {
   "cell_type": "markdown",
   "metadata": {},
   "source": [
    "Tratando o nome das variáveis"
   ]
  },
  {
   "cell_type": "code",
   "execution_count": 43,
   "metadata": {
    "collapsed": true
   },
   "outputs": [],
   "source": [
    "full.rename(columns={'MÊS': 'MES', 'REGIÃO': 'REGIAO', 'MATRÍCULA': 'MATRICULA', 'IDADE NA ÉPOCA':'IDADE_NA_EPOCA', 'IDADE AGORA': 'IDADE_AGORA', 'DATA ATUAL':'DATA_ATUAL'}, inplace=True)"
   ]
  },
  {
   "cell_type": "code",
   "execution_count": 44,
   "metadata": {},
   "outputs": [
    {
     "data": {
      "text/html": [
       "<div>\n",
       "<style>\n",
       "    .dataframe thead tr:only-child th {\n",
       "        text-align: right;\n",
       "    }\n",
       "\n",
       "    .dataframe thead th {\n",
       "        text-align: left;\n",
       "    }\n",
       "\n",
       "    .dataframe tbody tr th {\n",
       "        vertical-align: top;\n",
       "    }\n",
       "</style>\n",
       "<table border=\"1\" class=\"dataframe\">\n",
       "  <thead>\n",
       "    <tr style=\"text-align: right;\">\n",
       "      <th></th>\n",
       "      <th>ANO</th>\n",
       "      <th>MES</th>\n",
       "      <th>REGIAO</th>\n",
       "      <th>MATRICULA</th>\n",
       "      <th>IDADE_AGORA</th>\n",
       "      <th>IDADE_NA_EPOCA</th>\n",
       "      <th>DATA_ATUAL</th>\n",
       "      <th>SEXO</th>\n",
       "      <th>COL</th>\n",
       "      <th>HDL</th>\n",
       "      <th>LDL</th>\n",
       "      <th>TRIG</th>\n",
       "    </tr>\n",
       "  </thead>\n",
       "  <tbody>\n",
       "    <tr>\n",
       "      <th>0</th>\n",
       "      <td>2008</td>\n",
       "      <td>2</td>\n",
       "      <td>1</td>\n",
       "      <td>1768417</td>\n",
       "      <td>79.0</td>\n",
       "      <td>70.0</td>\n",
       "      <td>2017-09-11 08:08:06.460</td>\n",
       "      <td>F</td>\n",
       "      <td>333</td>\n",
       "      <td>65</td>\n",
       "      <td>243</td>\n",
       "      <td>203</td>\n",
       "    </tr>\n",
       "  </tbody>\n",
       "</table>\n",
       "</div>"
      ],
      "text/plain": [
       "    ANO  MES REGIAO MATRICULA  IDADE_AGORA  IDADE_NA_EPOCA  \\\n",
       "0  2008    2      1   1768417         79.0            70.0   \n",
       "\n",
       "               DATA_ATUAL SEXO  COL HDL  LDL TRIG  \n",
       "0 2017-09-11 08:08:06.460    F  333  65  243  203  "
      ]
     },
     "execution_count": 44,
     "metadata": {},
     "output_type": "execute_result"
    }
   ],
   "source": [
    "full.drop(['NOME','NASCIMENTO'], axis=1).head(1)"
   ]
  },
  {
   "cell_type": "markdown",
   "metadata": {},
   "source": [
    "Checando e tratando missings\n"
   ]
  },
  {
   "cell_type": "code",
   "execution_count": 45,
   "metadata": {},
   "outputs": [
    {
     "data": {
      "text/plain": [
       "ANO                   0\n",
       "MES                   0\n",
       "REGIAO               13\n",
       "MATRICULA         62800\n",
       "NOME                  0\n",
       "NASCIMENTO         5302\n",
       "IDADE_AGORA        5856\n",
       "IDADE_NA_EPOCA     5872\n",
       "DATA_ATUAL         3462\n",
       "SEXO                  0\n",
       "COL               12157\n",
       "HDL               51796\n",
       "LDL               66834\n",
       "TRIG              52195\n",
       "dtype: int64"
      ]
     },
     "execution_count": 45,
     "metadata": {},
     "output_type": "execute_result"
    }
   ],
   "source": [
    "full.isnull().sum()"
   ]
  },
  {
   "cell_type": "code",
   "execution_count": 46,
   "metadata": {},
   "outputs": [],
   "source": [
    "types = full.dtypes.values\n",
    "vars = full.columns.values"
   ]
  },
  {
   "cell_type": "code",
   "execution_count": 47,
   "metadata": {},
   "outputs": [
    {
     "data": {
      "text/plain": [
       "array([dtype('int64'), dtype('int64'), dtype('O'), dtype('O'), dtype('O'),\n",
       "       dtype('O'), dtype('float64'), dtype('float64'), dtype('<M8[ns]'),\n",
       "       dtype('O'), dtype('O'), dtype('O'), dtype('O'), dtype('O')], dtype=object)"
      ]
     },
     "execution_count": 47,
     "metadata": {},
     "output_type": "execute_result"
    }
   ],
   "source": [
    "types"
   ]
  },
  {
   "cell_type": "code",
   "execution_count": 48,
   "metadata": {
    "collapsed": true
   },
   "outputs": [],
   "source": [
    "# full = full.fillna(-1000)"
   ]
  },
  {
   "cell_type": "code",
   "execution_count": 49,
   "metadata": {},
   "outputs": [
    {
     "data": {
      "text/plain": [
       "ANO                   0\n",
       "MES                   0\n",
       "REGIAO               13\n",
       "MATRICULA         62800\n",
       "NOME                  0\n",
       "NASCIMENTO         5302\n",
       "IDADE_AGORA        5856\n",
       "IDADE_NA_EPOCA     5872\n",
       "DATA_ATUAL         3462\n",
       "SEXO                  0\n",
       "COL               12157\n",
       "HDL               51796\n",
       "LDL               66834\n",
       "TRIG              52195\n",
       "dtype: int64"
      ]
     },
     "execution_count": 49,
     "metadata": {},
     "output_type": "execute_result"
    }
   ],
   "source": [
    "full.isnull().sum()"
   ]
  },
  {
   "cell_type": "code",
   "execution_count": null,
   "metadata": {
    "collapsed": true
   },
   "outputs": [],
   "source": []
  },
  {
   "cell_type": "code",
   "execution_count": null,
   "metadata": {
    "collapsed": true
   },
   "outputs": [],
   "source": []
  },
  {
   "cell_type": "code",
   "execution_count": null,
   "metadata": {
    "collapsed": true
   },
   "outputs": [],
   "source": []
  },
  {
   "cell_type": "markdown",
   "metadata": {},
   "source": [
    "Tratando variáveis de data"
   ]
  },
  {
   "cell_type": "code",
   "execution_count": 50,
   "metadata": {
    "collapsed": true
   },
   "outputs": [],
   "source": [
    "import time\n",
    "import datetime"
   ]
  },
  {
   "cell_type": "code",
   "execution_count": 51,
   "metadata": {},
   "outputs": [],
   "source": [
    "date_nasc = pd.DatetimeIndex(full['NASCIMENTO'])\n",
    "date_atual = pd.DatetimeIndex(full['DATA_ATUAL'])"
   ]
  },
  {
   "cell_type": "code",
   "execution_count": 52,
   "metadata": {},
   "outputs": [],
   "source": [
    "full['NASC_DATA'] = date_nasc.strftime(\"%Y%m%d\")\n",
    "full['ATUAL_DATA'] = date_atual.strftime(\"%Y%m%d\")"
   ]
  },
  {
   "cell_type": "code",
   "execution_count": 53,
   "metadata": {},
   "outputs": [
    {
     "data": {
      "text/html": [
       "<div>\n",
       "<style>\n",
       "    .dataframe thead tr:only-child th {\n",
       "        text-align: right;\n",
       "    }\n",
       "\n",
       "    .dataframe thead th {\n",
       "        text-align: left;\n",
       "    }\n",
       "\n",
       "    .dataframe tbody tr th {\n",
       "        vertical-align: top;\n",
       "    }\n",
       "</style>\n",
       "<table border=\"1\" class=\"dataframe\">\n",
       "  <thead>\n",
       "    <tr style=\"text-align: right;\">\n",
       "      <th></th>\n",
       "      <th>ANO</th>\n",
       "      <th>MES</th>\n",
       "      <th>REGIAO</th>\n",
       "      <th>MATRICULA</th>\n",
       "      <th>IDADE_AGORA</th>\n",
       "      <th>IDADE_NA_EPOCA</th>\n",
       "      <th>DATA_ATUAL</th>\n",
       "      <th>SEXO</th>\n",
       "      <th>COL</th>\n",
       "      <th>HDL</th>\n",
       "      <th>LDL</th>\n",
       "      <th>TRIG</th>\n",
       "      <th>NASC_DATA</th>\n",
       "      <th>ATUAL_DATA</th>\n",
       "    </tr>\n",
       "  </thead>\n",
       "  <tbody>\n",
       "    <tr>\n",
       "      <th>0</th>\n",
       "      <td>2008</td>\n",
       "      <td>2</td>\n",
       "      <td>1</td>\n",
       "      <td>1768417</td>\n",
       "      <td>79.0</td>\n",
       "      <td>70.0</td>\n",
       "      <td>2017-09-11 08:08:06.460</td>\n",
       "      <td>F</td>\n",
       "      <td>333</td>\n",
       "      <td>65</td>\n",
       "      <td>243</td>\n",
       "      <td>203</td>\n",
       "      <td>19380602</td>\n",
       "      <td>20170911</td>\n",
       "    </tr>\n",
       "    <tr>\n",
       "      <th>1</th>\n",
       "      <td>2008</td>\n",
       "      <td>2</td>\n",
       "      <td>19</td>\n",
       "      <td>1741799</td>\n",
       "      <td>74.0</td>\n",
       "      <td>65.0</td>\n",
       "      <td>2017-09-11 08:08:06.460</td>\n",
       "      <td>M</td>\n",
       "      <td>208</td>\n",
       "      <td>39</td>\n",
       "      <td>143</td>\n",
       "      <td>164</td>\n",
       "      <td>19430505</td>\n",
       "      <td>20170911</td>\n",
       "    </tr>\n",
       "    <tr>\n",
       "      <th>2</th>\n",
       "      <td>2008</td>\n",
       "      <td>2</td>\n",
       "      <td>23</td>\n",
       "      <td>1777785</td>\n",
       "      <td>85.0</td>\n",
       "      <td>76.0</td>\n",
       "      <td>2017-09-11 08:08:06.460</td>\n",
       "      <td>M</td>\n",
       "      <td>157</td>\n",
       "      <td>33</td>\n",
       "      <td>104</td>\n",
       "      <td>85</td>\n",
       "      <td>19320615</td>\n",
       "      <td>20170911</td>\n",
       "    </tr>\n",
       "    <tr>\n",
       "      <th>3</th>\n",
       "      <td>2008</td>\n",
       "      <td>2</td>\n",
       "      <td>2</td>\n",
       "      <td>1914561</td>\n",
       "      <td>52.0</td>\n",
       "      <td>43.0</td>\n",
       "      <td>2017-09-11 08:08:06.460</td>\n",
       "      <td>F</td>\n",
       "      <td>228</td>\n",
       "      <td>48</td>\n",
       "      <td>163</td>\n",
       "      <td>112</td>\n",
       "      <td>19650827</td>\n",
       "      <td>20170911</td>\n",
       "    </tr>\n",
       "    <tr>\n",
       "      <th>4</th>\n",
       "      <td>2008</td>\n",
       "      <td>2</td>\n",
       "      <td>27</td>\n",
       "      <td>1417665</td>\n",
       "      <td>56.0</td>\n",
       "      <td>47.0</td>\n",
       "      <td>2017-09-11 08:08:06.460</td>\n",
       "      <td>F</td>\n",
       "      <td>224</td>\n",
       "      <td>36</td>\n",
       "      <td>159</td>\n",
       "      <td>NaN</td>\n",
       "      <td>19610216</td>\n",
       "      <td>20170911</td>\n",
       "    </tr>\n",
       "  </tbody>\n",
       "</table>\n",
       "</div>"
      ],
      "text/plain": [
       "    ANO  MES REGIAO MATRICULA  IDADE_AGORA  IDADE_NA_EPOCA  \\\n",
       "0  2008    2      1   1768417         79.0            70.0   \n",
       "1  2008    2     19   1741799         74.0            65.0   \n",
       "2  2008    2     23   1777785         85.0            76.0   \n",
       "3  2008    2      2   1914561         52.0            43.0   \n",
       "4  2008    2     27   1417665         56.0            47.0   \n",
       "\n",
       "               DATA_ATUAL SEXO  COL HDL  LDL TRIG NASC_DATA ATUAL_DATA  \n",
       "0 2017-09-11 08:08:06.460    F  333  65  243  203  19380602   20170911  \n",
       "1 2017-09-11 08:08:06.460    M  208  39  143  164  19430505   20170911  \n",
       "2 2017-09-11 08:08:06.460    M  157  33  104   85  19320615   20170911  \n",
       "3 2017-09-11 08:08:06.460    F  228  48  163  112  19650827   20170911  \n",
       "4 2017-09-11 08:08:06.460    F  224  36  159  NaN  19610216   20170911  "
      ]
     },
     "execution_count": 53,
     "metadata": {},
     "output_type": "execute_result"
    }
   ],
   "source": [
    "full.drop(['NOME','NASCIMENTO'], axis=1).head()"
   ]
  },
  {
   "cell_type": "markdown",
   "metadata": {},
   "source": [
    "Colocando a data na forma AnoMesDia, a informação vira um número crescente conforme a data é mais atual. É uma forma preliminar de se lidar com variável de data"
   ]
  },
  {
   "cell_type": "markdown",
   "metadata": {},
   "source": [
    "Tratar datas do tipo 'NaT'"
   ]
  },
  {
   "cell_type": "code",
   "execution_count": 54,
   "metadata": {},
   "outputs": [],
   "source": [
    "full = full.fillna(-1000)\n",
    "full['NASC_DATA'] = full['NASC_DATA'].replace(['NaT'], '-1000')\n",
    "full['ATUAL_DATA'] = full['ATUAL_DATA'].replace(['NaT'], '-1000')"
   ]
  },
  {
   "cell_type": "code",
   "execution_count": 55,
   "metadata": {},
   "outputs": [],
   "source": [
    "full['NASC_DATA'] = full['NASC_DATA'].astype(int)\n",
    "full['ATUAL_DATA'] = full['ATUAL_DATA'].astype(int)"
   ]
  },
  {
   "cell_type": "code",
   "execution_count": 56,
   "metadata": {},
   "outputs": [
    {
     "data": {
      "text/html": [
       "<div>\n",
       "<style>\n",
       "    .dataframe thead tr:only-child th {\n",
       "        text-align: right;\n",
       "    }\n",
       "\n",
       "    .dataframe thead th {\n",
       "        text-align: left;\n",
       "    }\n",
       "\n",
       "    .dataframe tbody tr th {\n",
       "        vertical-align: top;\n",
       "    }\n",
       "</style>\n",
       "<table border=\"1\" class=\"dataframe\">\n",
       "  <thead>\n",
       "    <tr style=\"text-align: right;\">\n",
       "      <th></th>\n",
       "      <th>ANO</th>\n",
       "      <th>MES</th>\n",
       "      <th>REGIAO</th>\n",
       "      <th>MATRICULA</th>\n",
       "      <th>IDADE_AGORA</th>\n",
       "      <th>IDADE_NA_EPOCA</th>\n",
       "      <th>DATA_ATUAL</th>\n",
       "      <th>SEXO</th>\n",
       "      <th>COL</th>\n",
       "      <th>HDL</th>\n",
       "      <th>LDL</th>\n",
       "      <th>TRIG</th>\n",
       "      <th>NASC_DATA</th>\n",
       "      <th>ATUAL_DATA</th>\n",
       "    </tr>\n",
       "  </thead>\n",
       "  <tbody>\n",
       "    <tr>\n",
       "      <th>0</th>\n",
       "      <td>2008</td>\n",
       "      <td>2</td>\n",
       "      <td>1</td>\n",
       "      <td>1768417</td>\n",
       "      <td>79.0</td>\n",
       "      <td>70.0</td>\n",
       "      <td>2017-09-11 08:08:06.460</td>\n",
       "      <td>F</td>\n",
       "      <td>333</td>\n",
       "      <td>65</td>\n",
       "      <td>243</td>\n",
       "      <td>203</td>\n",
       "      <td>19380602</td>\n",
       "      <td>20170911</td>\n",
       "    </tr>\n",
       "    <tr>\n",
       "      <th>1</th>\n",
       "      <td>2008</td>\n",
       "      <td>2</td>\n",
       "      <td>19</td>\n",
       "      <td>1741799</td>\n",
       "      <td>74.0</td>\n",
       "      <td>65.0</td>\n",
       "      <td>2017-09-11 08:08:06.460</td>\n",
       "      <td>M</td>\n",
       "      <td>208</td>\n",
       "      <td>39</td>\n",
       "      <td>143</td>\n",
       "      <td>164</td>\n",
       "      <td>19430505</td>\n",
       "      <td>20170911</td>\n",
       "    </tr>\n",
       "  </tbody>\n",
       "</table>\n",
       "</div>"
      ],
      "text/plain": [
       "    ANO  MES REGIAO MATRICULA  IDADE_AGORA  IDADE_NA_EPOCA  \\\n",
       "0  2008    2      1   1768417         79.0            70.0   \n",
       "1  2008    2     19   1741799         74.0            65.0   \n",
       "\n",
       "               DATA_ATUAL SEXO  COL HDL  LDL TRIG  NASC_DATA  ATUAL_DATA  \n",
       "0 2017-09-11 08:08:06.460    F  333  65  243  203   19380602    20170911  \n",
       "1 2017-09-11 08:08:06.460    M  208  39  143  164   19430505    20170911  "
      ]
     },
     "execution_count": 56,
     "metadata": {},
     "output_type": "execute_result"
    }
   ],
   "source": [
    "full.drop(['NOME','NASCIMENTO'], axis=1).head(2)"
   ]
  },
  {
   "cell_type": "code",
   "execution_count": 57,
   "metadata": {},
   "outputs": [
    {
     "data": {
      "text/plain": [
       "ANO               0\n",
       "MES               0\n",
       "REGIAO            0\n",
       "MATRICULA         0\n",
       "NOME              0\n",
       "NASCIMENTO        0\n",
       "IDADE_AGORA       0\n",
       "IDADE_NA_EPOCA    0\n",
       "DATA_ATUAL        0\n",
       "SEXO              0\n",
       "COL               0\n",
       "HDL               0\n",
       "LDL               0\n",
       "TRIG              0\n",
       "NASC_DATA         0\n",
       "ATUAL_DATA        0\n",
       "dtype: int64"
      ]
     },
     "execution_count": 57,
     "metadata": {},
     "output_type": "execute_result"
    }
   ],
   "source": [
    "full.isnull().sum()"
   ]
  },
  {
   "cell_type": "markdown",
   "metadata": {},
   "source": [
    "Coletando algumas métricas das variáveis e suas descrições, lembrando que valores = -1000 são missings"
   ]
  },
  {
   "cell_type": "code",
   "execution_count": 58,
   "metadata": {
    "collapsed": true
   },
   "outputs": [],
   "source": [
    "# full.to_csv(\"PREFEITURA_FULL.csv\", index = False) Atualiza a base consolidada com os tratamentos até essa celula"
   ]
  },
  {
   "cell_type": "code",
   "execution_count": 59,
   "metadata": {},
   "outputs": [
    {
     "data": {
      "text/plain": [
       "ANO                   0\n",
       "MES                   0\n",
       "REGIAO               13\n",
       "MATRICULA         62800\n",
       "NOME                  0\n",
       "NASCIMENTO         5302\n",
       "IDADE_AGORA        5856\n",
       "IDADE_NA_EPOCA     5872\n",
       "DATA_ATUAL         3462\n",
       "SEXO                  0\n",
       "COL               12157\n",
       "HDL               51796\n",
       "LDL               66834\n",
       "TRIG              52195\n",
       "NASC_DATA          5302\n",
       "ATUAL_DATA         3462\n",
       "dtype: int64"
      ]
     },
     "execution_count": 59,
     "metadata": {},
     "output_type": "execute_result"
    }
   ],
   "source": [
    "(full == -1000).sum()"
   ]
  },
  {
   "cell_type": "code",
   "execution_count": 60,
   "metadata": {},
   "outputs": [
    {
     "name": "stdout",
     "output_type": "stream",
     "text": [
      "\t A variável ANO é do tipo int64\n",
      "\n",
      "\t A variável MES é do tipo int64\n",
      "\n",
      "\t A variável REGIAO é do tipo object\n",
      "\n",
      "\t A variável MATRICULA é do tipo object\n",
      "\n",
      "\t A variável NOME é do tipo object\n",
      "\n",
      "\t A variável NASCIMENTO é do tipo object\n",
      "\n",
      "\t A variável IDADE_AGORA é do tipo float64\n",
      "\n",
      "\t A variável IDADE_NA_EPOCA é do tipo float64\n",
      "\n",
      "\t A variável DATA_ATUAL é do tipo datetime64[ns]\n",
      "\n",
      "\t A variável SEXO é do tipo object\n",
      "\n",
      "\t A variável COL é do tipo object\n",
      "\n",
      "\t A variável HDL é do tipo object\n",
      "\n",
      "\t A variável LDL é do tipo object\n",
      "\n",
      "\t A variável TRIG é do tipo object\n",
      "\n",
      "\t A variável NASC_DATA é do tipo int32\n",
      "\n",
      "\t A variável ATUAL_DATA é do tipo int32\n",
      "\n"
     ]
    }
   ],
   "source": [
    "for var in full.columns:\n",
    "    str_tipo = str(full[var].dtype)\n",
    "    print('\\t A variável %s é do tipo %s\\n' % (var,str_tipo) )"
   ]
  },
  {
   "cell_type": "markdown",
   "metadata": {},
   "source": [
    "Análises para metadados"
   ]
  },
  {
   "cell_type": "code",
   "execution_count": null,
   "metadata": {
    "collapsed": true
   },
   "outputs": [],
   "source": []
  }
 ],
 "metadata": {
  "kernelspec": {
   "display_name": "Python 3",
   "language": "python",
   "name": "python3"
  },
  "language_info": {
   "codemirror_mode": {
    "name": "ipython",
    "version": 3
   },
   "file_extension": ".py",
   "mimetype": "text/x-python",
   "name": "python",
   "nbconvert_exporter": "python",
   "pygments_lexer": "ipython3",
   "version": "3.6.1"
  }
 },
 "nbformat": 4,
 "nbformat_minor": 2
}
