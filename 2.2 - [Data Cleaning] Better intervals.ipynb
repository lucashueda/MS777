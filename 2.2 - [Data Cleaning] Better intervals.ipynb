{
 "cells": [
  {
   "cell_type": "code",
   "execution_count": 1,
   "metadata": {
    "collapsed": true
   },
   "outputs": [],
   "source": [
    "import pandas as pd\n",
    "import numpy as np\n",
    "import matplotlib.pyplot as plt\n",
    "%matplotlib inline\n",
    "import seaborn as sns"
   ]
  },
  {
   "cell_type": "code",
   "execution_count": 4,
   "metadata": {
    "collapsed": true
   },
   "outputs": [],
   "source": [
    "base = pd.read_csv(\"clean_base111.csv\", encoding=\"latin-1\")"
   ]
  },
  {
   "cell_type": "markdown",
   "metadata": {},
   "source": [
    "# Data volumetry"
   ]
  },
  {
   "cell_type": "code",
   "execution_count": 5,
   "metadata": {},
   "outputs": [
    {
     "data": {
      "image/png": "[encoded data removed]",
      "text/plain": [
       "<matplotlib.figure.Figure at 0x2823ab4aa20>"
      ]
     },
     "metadata": {},
     "output_type": "display_data"
    }
   ],
   "source": [
    "volumetry = base.groupby('Ano').agg({'Dia Juliano': 'count'}).reset_index()\n",
    "\n",
    "fig = plt.figure(figsize=(12, 6))\n",
    "# plt.title(\"Volumetria base original\")\n",
    "N = np.arange(len(volumetry['Dia Juliano']))\n",
    "plt.bar(N,volumetry['Dia Juliano'].values)\n",
    "plt.xticks(N,volumetry['Ano'],rotation = 45)\n",
    "# plt.savefig(\"CEPAGRI_volumetria_nomiss\")\n",
    "plt.show()"
   ]
  },
  {
   "cell_type": "markdown",
   "metadata": {},
   "source": [
    "# Better interval to the main variables\n",
    "\n",
    "1°) Temperatura do Ar (°C) - Air temperature\n",
    "\n",
    "2°) Umidade relativa (%) - Air moisture\n",
    "\n",
    "3°) Pressão (hPa) - Pression\n",
    "\n",
    "4°) Direção do vento - Wind direction"
   ]
  },
  {
   "cell_type": "code",
   "execution_count": 6,
   "metadata": {
    "collapsed": true
   },
   "outputs": [],
   "source": [
    "#Defining functions to check data volumetry and variables intervals\n",
    "\n",
    "#Function to check volumetry\n",
    "def volumetry(data,safra, savefig='none', savefig_check = False):\n",
    "    print(\"The full volumetry is \", data.shape[0])\n",
    "    \n",
    "    base_vol = data.groupby(safra).agg({'Cod': 'count'}).reset_index()\n",
    "    \n",
    "    print(\"\\nThe volumetry per month is \", base_vol.Cod.mean())\n",
    "    \n",
    "    Anos = base[safra].unique()\n",
    "    Anos.sort()\n",
    "    \n",
    "    if(savefig_check == False):\n",
    "        fig = plt.figure(figsize=(14, 5))\n",
    "        plt.bar(np.arange(len(Anos)), base_vol.Cod)\n",
    "        plt.xticks(np.arange(len(Anos)), Anos, rotation = 45)\n",
    "        plt.show()\n",
    "    else:\n",
    "        fig = plt.figure(figsize=(14, 5))\n",
    "        plt.bar(np.arange(len(Anos)), base_vol.Cod)\n",
    "        plt.xticks(np.arange(len(Anos)), Anos, rotation = 45)\n",
    "        plt.savefig(savefig)\n",
    "        plt.show()\n",
    "\n",
    "#Function to check variable intervals\n",
    "def info_var(data, var):\n",
    "    \n",
    "    mean_ = data[var].mean()\n",
    "    min_ = data[var].min()\n",
    "    max_ = data[var].max()\n",
    "    std_ = data[var].std()\n",
    "    \n",
    "    print(f\"The variable {var} mean is {mean_} +- {std_} \\nThe min is {min_} and the maxi is {max_}\")"
   ]
  },
  {
   "cell_type": "markdown",
   "metadata": {},
   "source": [
    "## Air temperature "
   ]
  },
  {
   "cell_type": "code",
   "execution_count": 7,
   "metadata": {
    "collapsed": true
   },
   "outputs": [],
   "source": [
    "base_v1 = base.loc[(base['Temperatura do Ar Média (°C)'] > -2) & (base['Temperatura do Ar Média (°C)'] < 45), :]"
   ]
  },
  {
   "cell_type": "code",
   "execution_count": 8,
   "metadata": {},
   "outputs": [
    {
     "name": "stdout",
     "output_type": "stream",
     "text": [
      "The variable Temperatura do Ar Média (°C) mean is 25.852151433121485 +- 239.75255845153632 \n",
      "The min is -6999.0 and the maxi is 182266.0\n"
     ]
    }
   ],
   "source": [
    "#Variable intervals before\n",
    "info_var(base,'Temperatura do Ar Média (°C)')"
   ]
  },
  {
   "cell_type": "code",
   "execution_count": 9,
   "metadata": {},
   "outputs": [
    {
     "name": "stdout",
     "output_type": "stream",
     "text": [
      "The variable Temperatura do Ar Média (°C) mean is 21.585130633663283 +- 5.044778596565305 \n",
      "The min is 3.89 and the maxi is 44.99\n"
     ]
    }
   ],
   "source": [
    "#Variable intervals after\n",
    "info_var(base_v1,'Temperatura do Ar Média (°C)')"
   ]
  },
  {
   "cell_type": "code",
   "execution_count": 10,
   "metadata": {},
   "outputs": [
    {
     "name": "stdout",
     "output_type": "stream",
     "text": [
      "The full volumetry is  1047165\n",
      "\n",
      "The volumetry per month is  49865.0\n"
     ]
    },
    {
     "data": {
      "image/png": "[encoded data removed]",
      "text/plain": [
       "<matplotlib.figure.Figure at 0x2823cdc1780>"
      ]
     },
     "metadata": {},
     "output_type": "display_data"
    }
   ],
   "source": [
    "#Volumetry\n",
    "volumetry(base_v1, 'Ano')"
   ]
  },
  {
   "cell_type": "code",
   "execution_count": 11,
   "metadata": {},
   "outputs": [
    {
     "data": {
      "text/plain": [
       "862"
      ]
     },
     "execution_count": 11,
     "metadata": {},
     "output_type": "execute_result"
    }
   ],
   "source": [
    "#Volumetry difference \n",
    "base.shape[0] - base_v1.shape[0]"
   ]
  },
  {
   "cell_type": "markdown",
   "metadata": {},
   "source": [
    "# Air moisture"
   ]
  },
  {
   "cell_type": "code",
   "execution_count": 12,
   "metadata": {
    "collapsed": true
   },
   "outputs": [],
   "source": [
    "base_v2 = base_v1.loc[(base_v1['Umidade relativa Média (%)'] >= 0) & (base_v1['Umidade relativa Média (%)'] <= 100), :]"
   ]
  },
  {
   "cell_type": "code",
   "execution_count": 14,
   "metadata": {},
   "outputs": [
    {
     "name": "stdout",
     "output_type": "stream",
     "text": [
      "The variable Umidade relativa Média (%) mean is 74.04371444805736 +- 26.61048731767592 \n",
      "The min is -6371.0 and the maxi is 6836.0\n"
     ]
    }
   ],
   "source": [
    "#Variable intervals before\n",
    "info_var(base_v1,'Umidade relativa Média (%)')"
   ]
  },
  {
   "cell_type": "code",
   "execution_count": 15,
   "metadata": {},
   "outputs": [
    {
     "name": "stdout",
     "output_type": "stream",
     "text": [
      "The variable Umidade relativa Média (%) mean is 74.02907690000264 +- 18.813048932048453 \n",
      "The min is 7.41 and the maxi is 100.0\n"
     ]
    }
   ],
   "source": [
    "#Variable intervals after\n",
    "info_var(base_v2,'Umidade relativa Média (%)')"
   ]
  },
  {
   "cell_type": "code",
   "execution_count": 18,
   "metadata": {},
   "outputs": [
    {
     "name": "stdout",
     "output_type": "stream",
     "text": [
      "The full volumetry is  1046788\n",
      "\n",
      "The volumetry per month is  49847.047619\n"
     ]
    },
    {
     "data": {
      "image/png": "[encoded data removed]",
      "text/plain": [
       "<matplotlib.figure.Figure at 0x2823d0b4438>"
      ]
     },
     "metadata": {},
     "output_type": "display_data"
    }
   ],
   "source": [
    "volumetry(base_v2, 'Ano')"
   ]
  },
  {
   "cell_type": "code",
   "execution_count": 16,
   "metadata": {},
   "outputs": [
    {
     "data": {
      "text/plain": [
       "377"
      ]
     },
     "execution_count": 16,
     "metadata": {},
     "output_type": "execute_result"
    }
   ],
   "source": [
    "#Volumetry difference \n",
    "base_v1.shape[0] - base_v2.shape[0]"
   ]
  },
  {
   "cell_type": "markdown",
   "metadata": {},
   "source": [
    "# Air pression"
   ]
  },
  {
   "cell_type": "code",
   "execution_count": 19,
   "metadata": {
    "collapsed": true
   },
   "outputs": [],
   "source": [
    "base_v3 = base_v2.loc[(base_v2['Pressão (hPa)'] >= 822) & (base_v2['Pressão (hPa)'] <= 1030), :]"
   ]
  },
  {
   "cell_type": "code",
   "execution_count": 20,
   "metadata": {},
   "outputs": [
    {
     "name": "stdout",
     "output_type": "stream",
     "text": [
      "The variable Pressão (hPa) mean is 946.536023196674 +- 78.69648478565696 \n",
      "The min is -6999.0 and the maxi is 2802.0\n"
     ]
    }
   ],
   "source": [
    "#Variable intervals before\n",
    "info_var(base_v2,'Pressão (hPa)')"
   ]
  },
  {
   "cell_type": "code",
   "execution_count": 21,
   "metadata": {},
   "outputs": [
    {
     "name": "stdout",
     "output_type": "stream",
     "text": [
      "The variable Pressão (hPa) mean is 947.304604268704 +- 6.6342131718073585 \n",
      "The min is 822.0 and the maxi is 1028.0\n"
     ]
    }
   ],
   "source": [
    "#Variable intervals after\n",
    "info_var(base_v3,'Pressão (hPa)')"
   ]
  },
  {
   "cell_type": "code",
   "execution_count": 22,
   "metadata": {},
   "outputs": [
    {
     "name": "stdout",
     "output_type": "stream",
     "text": [
      "The full volumetry is  1046594\n",
      "\n",
      "The volumetry per month is  49837.8095238\n"
     ]
    },
    {
     "data": {
      "image/png": "[encoded data removed]",
      "text/plain": [
       "<matplotlib.figure.Figure at 0x2823ce584a8>"
      ]
     },
     "metadata": {},
     "output_type": "display_data"
    }
   ],
   "source": [
    "volumetry(base_v3, 'Ano')"
   ]
  },
  {
   "cell_type": "code",
   "execution_count": 23,
   "metadata": {},
   "outputs": [
    {
     "data": {
      "text/plain": [
       "194"
      ]
     },
     "execution_count": 23,
     "metadata": {},
     "output_type": "execute_result"
    }
   ],
   "source": [
    "#Volumetry difference \n",
    "base_v2.shape[0] - base_v3.shape[0]"
   ]
  },
  {
   "cell_type": "markdown",
   "metadata": {},
   "source": [
    "# Wind direction"
   ]
  },
  {
   "cell_type": "code",
   "execution_count": 24,
   "metadata": {
    "collapsed": true
   },
   "outputs": [],
   "source": [
    "base_v4 = base_v3.loc[(base_v3['Direção do Vento no instante da aquisição (°)'] >= 0) & (base_v3['Direção do Vento no instante da aquisição (°)'] <= 360), :]"
   ]
  },
  {
   "cell_type": "code",
   "execution_count": 26,
   "metadata": {},
   "outputs": [
    {
     "name": "stdout",
     "output_type": "stream",
     "text": [
      "The variable Direção do Vento no instante da aquisição (°) mean is 271.94631508779906 +- 669.2521355253434 \n",
      "The min is 0.0 and the maxi is 6999.0\n"
     ]
    }
   ],
   "source": [
    "#Variable intervals before\n",
    "info_var(base_v3,'Direção do Vento no instante da aquisição (°)')"
   ]
  },
  {
   "cell_type": "code",
   "execution_count": 27,
   "metadata": {},
   "outputs": [
    {
     "name": "stdout",
     "output_type": "stream",
     "text": [
      "The variable Direção do Vento no instante da aquisição (°) mean is 165.95483099363923 +- 97.79135009516013 \n",
      "The min is 0.0 and the maxi is 360.0\n"
     ]
    }
   ],
   "source": [
    "#Variable intervals after\n",
    "info_var(base_v4,'Direção do Vento no instante da aquisição (°)')"
   ]
  },
  {
   "cell_type": "code",
   "execution_count": 28,
   "metadata": {},
   "outputs": [
    {
     "name": "stdout",
     "output_type": "stream",
     "text": [
      "The full volumetry is  1013879\n",
      "\n",
      "The volumetry per month is  48279.952381\n"
     ]
    },
    {
     "data": {
      "image/png": "[encoded data removed]",
      "text/plain": [
       "<matplotlib.figure.Figure at 0x2823d69a978>"
      ]
     },
     "metadata": {},
     "output_type": "display_data"
    }
   ],
   "source": [
    "volumetry(base_v4, 'Ano')"
   ]
  },
  {
   "cell_type": "code",
   "execution_count": 29,
   "metadata": {},
   "outputs": [
    {
     "data": {
      "text/plain": [
       "32715"
      ]
     },
     "execution_count": 29,
     "metadata": {},
     "output_type": "execute_result"
    }
   ],
   "source": [
    "#Volumetry difference \n",
    "base_v3.shape[0] - base_v4.shape[0]"
   ]
  },
  {
   "cell_type": "markdown",
   "metadata": {},
   "source": [
    "# Summary"
   ]
  },
  {
   "cell_type": "code",
   "execution_count": 30,
   "metadata": {},
   "outputs": [
    {
     "name": "stdout",
     "output_type": "stream",
     "text": [
      "34148 observations were removed what is 3.26% of the dataset\n"
     ]
    }
   ],
   "source": [
    "#Summary\n",
    "\n",
    "#Observation removed\n",
    "qtde = base.shape[0] - base_v4.shape[0]\n",
    "\n",
    "percent = 100*qtde/base.shape[0]\n",
    "\n",
    "percent = round(percent,2)\n",
    "\n",
    "print(f\"{qtde} observations were removed what is {percent}% of the dataset\")"
   ]
  },
  {
   "cell_type": "markdown",
   "metadata": {},
   "source": [
    "# Adding control variables of month and week"
   ]
  },
  {
   "cell_type": "code",
   "execution_count": 32,
   "metadata": {
    "collapsed": true
   },
   "outputs": [],
   "source": [
    "# Defining functions\n",
    "\n",
    "#Function that gets month\n",
    "def get_month(day):\n",
    "    if((day>0) & (day <= 31)):\n",
    "        return 1\n",
    "    elif((day>31) & (day <= 59)):\n",
    "        return 2\n",
    "    elif((day>59) & (day <= 90)):\n",
    "        return 3\n",
    "    elif((day>90) & (day <= 120)):\n",
    "        return 4\n",
    "    elif((day>120) & (day <= 151)):\n",
    "        return 5\n",
    "    elif((day>151) & (day <= 181)):\n",
    "        return 6\n",
    "    elif((day>181) & (day <= 212)):\n",
    "        return 7\n",
    "    elif((day>212) & (day <= 243)):\n",
    "        return 8\n",
    "    elif((day>243) & (day <= 273)):\n",
    "        return 9\n",
    "    elif((day>273) & (day <= 304)):\n",
    "        return 10\n",
    "    elif((day>304) & (day <= 334)):\n",
    "        return 11\n",
    "    else:\n",
    "        return 12\n",
    "    \n",
    "#Function that gets week\n",
    "def get_week(days):\n",
    "    return np.floor(days/7)"
   ]
  },
  {
   "cell_type": "code",
   "execution_count": 38,
   "metadata": {},
   "outputs": [
    {
     "name": "stderr",
     "output_type": "stream",
     "text": [
      "c:\\users\\hideki\\appdata\\local\\programs\\python\\python36\\lib\\site-packages\\ipykernel_launcher.py:1: SettingWithCopyWarning: \n",
      "A value is trying to be set on a copy of a slice from a DataFrame.\n",
      "Try using .loc[row_indexer,col_indexer] = value instead\n",
      "\n",
      "See the caveats in the documentation: http://pandas.pydata.org/pandas-docs/stable/indexing.html#indexing-view-versus-copy\n",
      "  \"\"\"Entry point for launching an IPython kernel.\n",
      "c:\\users\\hideki\\appdata\\local\\programs\\python\\python36\\lib\\site-packages\\ipykernel_launcher.py:2: SettingWithCopyWarning: \n",
      "A value is trying to be set on a copy of a slice from a DataFrame.\n",
      "Try using .loc[row_indexer,col_indexer] = value instead\n",
      "\n",
      "See the caveats in the documentation: http://pandas.pydata.org/pandas-docs/stable/indexing.html#indexing-view-versus-copy\n",
      "  \n"
     ]
    }
   ],
   "source": [
    "base_v4['month'] = base_v4['Dia Juliano'].map(get_month)\n",
    "base_v4['week'] = base_v4['Dia Juliano'].map(get_week)"
   ]
  },
  {
   "cell_type": "code",
   "execution_count": 40,
   "metadata": {},
   "outputs": [
    {
     "name": "stdout",
     "output_type": "stream",
     "text": [
      "[ 1  2  3  4  5  6  7  8  9 10 11 12]\n",
      "12\n"
     ]
    }
   ],
   "source": [
    "print(base_v4.month.unique())\n",
    "print(base_v4.month.nunique())"
   ]
  },
  {
   "cell_type": "code",
   "execution_count": 41,
   "metadata": {},
   "outputs": [
    {
     "name": "stdout",
     "output_type": "stream",
     "text": [
      "[  0.   1.   2.   3.   4.   5.   6.   7.   8.   9.  10.  11.  12.  13.  14.\n",
      "  15.  16.  17.  18.  19.  20.  21.  22.  23.  24.  25.  26.  27.  28.  29.\n",
      "  30.  31.  32.  33.  34.  35.  36.  37.  38.  39.  40.  41.  42.  43.  44.\n",
      "  45.  46.  47.  48.  49.  50.  51.  52.]\n",
      "53\n"
     ]
    }
   ],
   "source": [
    "print(base_v4.week.unique())\n",
    "print(base_v4.week.nunique())"
   ]
  },
  {
   "cell_type": "code",
   "execution_count": 43,
   "metadata": {
    "collapsed": true
   },
   "outputs": [],
   "source": [
    "#Exporting dataset\n",
    "\n",
    "base_v4.to_csv(\"clean_base111_v2.csv\")"
   ]
  },
  {
   "cell_type": "code",
   "execution_count": null,
   "metadata": {
    "collapsed": true
   },
   "outputs": [],
   "source": []
  }
 ],
 "metadata": {
  "kernelspec": {
   "display_name": "Python 3",
   "language": "python",
   "name": "python3"
  },
  "language_info": {
   "codemirror_mode": {
    "name": "ipython",
    "version": 3
   },
   "file_extension": ".py",
   "mimetype": "text/x-python",
   "name": "python",
   "nbconvert_exporter": "python",
   "pygments_lexer": "ipython3",
   "version": "3.6.1"
  }
 },
 "nbformat": 4,
 "nbformat_minor": 2
}
