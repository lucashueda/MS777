{
 "cells": [
  {
   "cell_type": "markdown",
   "metadata": {},
   "source": [
    "# Análises Base CEPAGRI\n"
   ]
  },
  {
   "cell_type": "markdown",
   "metadata": {},
   "source": [
    "### 1. Import das bases"
   ]
  },
  {
   "cell_type": "code",
   "execution_count": 6,
   "metadata": {
    "collapsed": true
   },
   "outputs": [],
   "source": [
    "import pandas as pd\n",
    "import numpy as np\n",
    "import matplotlib.pyplot as plt\n",
    "%matplotlib inline"
   ]
  },
  {
   "cell_type": "markdown",
   "metadata": {},
   "source": [
    "### 2. Tratamento das bases"
   ]
  },
  {
   "cell_type": "markdown",
   "metadata": {},
   "source": [
    "#### Criando array com o nome das planilhas com as informações"
   ]
  },
  {
   "cell_type": "code",
   "execution_count": 52,
   "metadata": {},
   "outputs": [
    {
     "data": {
      "text/plain": [
       "['1997',\n",
       " '1998',\n",
       " '1999',\n",
       " '2000',\n",
       " '2001',\n",
       " '2002',\n",
       " '2003',\n",
       " '2004',\n",
       " '2005',\n",
       " '2006',\n",
       " '2007',\n",
       " '2008',\n",
       " '2009',\n",
       " '2010',\n",
       " '2011',\n",
       " '2012',\n",
       " '2013',\n",
       " '2014',\n",
       " '2015',\n",
       " '2016']"
      ]
     },
     "execution_count": 52,
     "metadata": {},
     "output_type": "execute_result"
    }
   ],
   "source": [
    "planilha = [str(1997+w) for w in range(0,20)]\n",
    "planilha"
   ]
  },
  {
   "cell_type": "markdown",
   "metadata": {},
   "source": [
    "### Lendo cada planilha separando por abas iguais (111, 222, 333 e 265), em 4 dataframes\n",
    "\n",
    "Se a coluna vier com a string \"Unnamed\" contido no nome, ela é dropada, pois é um erro de leitura de planilha do excel"
   ]
  },
  {
   "cell_type": "code",
   "execution_count": 53,
   "metadata": {},
   "outputs": [],
   "source": [
    "data_111 = []\n",
    "for p in planilha:\n",
    "    name =p+'.xlsx'\n",
    "    data_111.append(pd.read_excel(name, sheetname=\"111\"))"
   ]
  },
  {
   "cell_type": "code",
   "execution_count": 54,
   "metadata": {},
   "outputs": [],
   "source": [
    "for i in range(len(planilha)):\n",
    "    to_drop = []\n",
    "    for var in data_111[i].columns:\n",
    "        if(\"Unnamed\" in var):\n",
    "            to_drop.append(var)\n",
    "    data_111[i] = data_111[i].drop(to_drop, axis=1) "
   ]
  },
  {
   "cell_type": "code",
   "execution_count": 55,
   "metadata": {
    "collapsed": true
   },
   "outputs": [],
   "source": [
    "data_222 = []\n",
    "for p in planilha:\n",
    "    name =p+'.xlsx'\n",
    "    data_222.append(pd.read_excel(name, sheetname=\"222\"))"
   ]
  },
  {
   "cell_type": "code",
   "execution_count": 56,
   "metadata": {
    "collapsed": true
   },
   "outputs": [],
   "source": [
    "for i in range(len(planilha)):\n",
    "    to_drop = []\n",
    "    for var in data_222[i].columns:\n",
    "        if(\"Unnamed\" in var):\n",
    "            to_drop.append(var)\n",
    "    data_222[i] = data_222[i].drop(to_drop, axis=1) "
   ]
  },
  {
   "cell_type": "markdown",
   "metadata": {},
   "source": [
    "#### Foi visto que nas abas 333, a partir de 2013 não existe essa aba nas planilhas e portanto limitou-se a leitura até 2012"
   ]
  },
  {
   "cell_type": "code",
   "execution_count": 59,
   "metadata": {},
   "outputs": [
    {
     "name": "stdout",
     "output_type": "stream",
     "text": [
      "1997.xlsx\n",
      "1998.xlsx\n",
      "1999.xlsx\n",
      "2000.xlsx\n",
      "2001.xlsx\n",
      "2002.xlsx\n",
      "2003.xlsx\n",
      "2004.xlsx\n",
      "2005.xlsx\n",
      "2006.xlsx\n",
      "2007.xlsx\n",
      "2008.xlsx\n",
      "2009.xlsx\n",
      "2010.xlsx\n",
      "2011.xlsx\n",
      "2012.xlsx\n"
     ]
    }
   ],
   "source": [
    "data_333 = []\n",
    "for p in planilha:\n",
    "    if(int(p)<2013):\n",
    "        name =p+'.xlsx'\n",
    "        print(name)\n",
    "        data_333.append(pd.read_excel(name, sheetname=\"333\"))"
   ]
  },
  {
   "cell_type": "code",
   "execution_count": 61,
   "metadata": {},
   "outputs": [],
   "source": [
    "for i in range(len(planilha)-4):\n",
    "    to_drop = []\n",
    "    for var in data_333[i].columns:\n",
    "        if(\"Unnamed\" in var):\n",
    "            to_drop.append(var)\n",
    "    data_333[i] = data_333[i].drop(to_drop, axis=1) "
   ]
  },
  {
   "cell_type": "code",
   "execution_count": 62,
   "metadata": {
    "collapsed": true
   },
   "outputs": [],
   "source": [
    "data_265 = []\n",
    "for p in planilha:\n",
    "    name =p+'.xlsx'\n",
    "    data_265.append(pd.read_excel(name, sheetname=\"265\"))"
   ]
  },
  {
   "cell_type": "code",
   "execution_count": 63,
   "metadata": {
    "collapsed": true
   },
   "outputs": [],
   "source": [
    "for i in range(len(planilha)):\n",
    "    to_drop = []\n",
    "    for var in data_265[i].columns:\n",
    "        if(\"Unnamed\" in var):\n",
    "            to_drop.append(var)\n",
    "    data_265[i] = data_265[i].drop(to_drop, axis=1) "
   ]
  },
  {
   "cell_type": "markdown",
   "metadata": {},
   "source": [
    "#### Checando o tamanhos das bases"
   ]
  },
  {
   "cell_type": "code",
   "execution_count": 155,
   "metadata": {},
   "outputs": [],
   "source": [
    "# for i in range(len(data_111)):\n",
    "#     print(\"Base \", i, \" tem tamanho \", data_111[i].shape, \"\\n\")"
   ]
  },
  {
   "cell_type": "code",
   "execution_count": 156,
   "metadata": {},
   "outputs": [],
   "source": [
    "# for i in range(len(data_222)):\n",
    "#     print(\"Base \", i, \" tem tamanho \", data_222[i].shape, \"\\n\")"
   ]
  },
  {
   "cell_type": "code",
   "execution_count": 157,
   "metadata": {},
   "outputs": [],
   "source": [
    "# for i in range(len(data_333)):\n",
    "#     print(\"Base \", i, \" tem tamanho \", data_333[i].shape, \"\\n\")"
   ]
  },
  {
   "cell_type": "code",
   "execution_count": 158,
   "metadata": {},
   "outputs": [],
   "source": [
    "# for i in range(len(data_265)):\n",
    "#     print(\"Base \", i, \" tem tamanho \", data_265[i].shape, \"\\n\")"
   ]
  },
  {
   "cell_type": "markdown",
   "metadata": {},
   "source": [
    "#### Consolidando as bases"
   ]
  },
  {
   "cell_type": "code",
   "execution_count": 71,
   "metadata": {
    "collapsed": true
   },
   "outputs": [],
   "source": [
    "full_111 = data_111[0]\n",
    "\n",
    "for i in range(1,len(data_111) - 1):\n",
    "    full_111 = pd.concat([full_111, data_111[i]], axis = 0)"
   ]
  },
  {
   "cell_type": "code",
   "execution_count": 74,
   "metadata": {},
   "outputs": [
    {
     "data": {
      "text/plain": [
       "(997705, 18)"
      ]
     },
     "execution_count": 74,
     "metadata": {},
     "output_type": "execute_result"
    }
   ],
   "source": [
    "full_111.shape"
   ]
  },
  {
   "cell_type": "code",
   "execution_count": 75,
   "metadata": {
    "collapsed": true
   },
   "outputs": [],
   "source": [
    "full_222 = data_222[0]\n",
    "\n",
    "for i in range(1,len(data_222) - 1):\n",
    "    full_222 = pd.concat([full_222, data_222[i]], axis = 0)"
   ]
  },
  {
   "cell_type": "code",
   "execution_count": 76,
   "metadata": {},
   "outputs": [
    {
     "data": {
      "text/plain": [
       "(6548, 21)"
      ]
     },
     "execution_count": 76,
     "metadata": {},
     "output_type": "execute_result"
    }
   ],
   "source": [
    "full_222.shape"
   ]
  },
  {
   "cell_type": "code",
   "execution_count": 77,
   "metadata": {
    "collapsed": true
   },
   "outputs": [],
   "source": [
    "full_333 = data_333[0]\n",
    "\n",
    "for i in range(1,len(data_333) - 1):\n",
    "    full_333 = pd.concat([full_333, data_333[i]], axis = 0)"
   ]
  },
  {
   "cell_type": "code",
   "execution_count": 78,
   "metadata": {},
   "outputs": [
    {
     "data": {
      "text/plain": [
       "(25320, 10)"
      ]
     },
     "execution_count": 78,
     "metadata": {},
     "output_type": "execute_result"
    }
   ],
   "source": [
    "full_333.shape"
   ]
  },
  {
   "cell_type": "code",
   "execution_count": 79,
   "metadata": {
    "collapsed": true
   },
   "outputs": [],
   "source": [
    "full_265 = data_265[0]\n",
    "\n",
    "for i in range(1,len(data_265) - 1):\n",
    "    full_265 = pd.concat([full_265, data_265[i]], axis = 0)"
   ]
  },
  {
   "cell_type": "code",
   "execution_count": 80,
   "metadata": {},
   "outputs": [
    {
     "data": {
      "text/plain": [
       "(6498, 13)"
      ]
     },
     "execution_count": 80,
     "metadata": {},
     "output_type": "execute_result"
    }
   ],
   "source": [
    "full_265.shape"
   ]
  },
  {
   "cell_type": "markdown",
   "metadata": {},
   "source": [
    "#### Salvando as bases consolidadas em arquivo csv"
   ]
  },
  {
   "cell_type": "code",
   "execution_count": 81,
   "metadata": {
    "collapsed": true
   },
   "outputs": [],
   "source": [
    "full_111.to_csv(\"base_111.csv\", index = False)\n",
    "full_222.to_csv(\"base_222.csv\", index = False)\n",
    "full_333.to_csv(\"base_333.csv\", index = False)\n",
    "full_265.to_csv(\"base_265.csv\", index = False)"
   ]
  },
  {
   "cell_type": "markdown",
   "metadata": {},
   "source": [
    "### 3. Análise das bases"
   ]
  },
  {
   "cell_type": "code",
   "execution_count": 82,
   "metadata": {},
   "outputs": [
    {
     "data": {
      "text/html": [
       "<div>\n",
       "<style>\n",
       "    .dataframe thead tr:only-child th {\n",
       "        text-align: right;\n",
       "    }\n",
       "\n",
       "    .dataframe thead th {\n",
       "        text-align: left;\n",
       "    }\n",
       "\n",
       "    .dataframe tbody tr th {\n",
       "        vertical-align: top;\n",
       "    }\n",
       "</style>\n",
       "<table border=\"1\" class=\"dataframe\">\n",
       "  <thead>\n",
       "    <tr style=\"text-align: right;\">\n",
       "      <th></th>\n",
       "      <th>Cod</th>\n",
       "      <th>Ano</th>\n",
       "      <th>Dia Juliano</th>\n",
       "      <th>Hora - minuto</th>\n",
       "      <th>Veloc. Instantânea do Vento a 5 metros (m/s)</th>\n",
       "      <th>Veloc. Instantânea do Vento a 2 metros (m/s)</th>\n",
       "      <th>Direção do Vento no instante da aquisição (°)</th>\n",
       "      <th>Radiação Incidente total de 10 leituras (KW/m2)</th>\n",
       "      <th>Radiação Refletida Total de 10 leituras (KW/m2)</th>\n",
       "      <th>Fluxo Positivo de calor no solo total de 10 leituras (W/m2)</th>\n",
       "      <th>Fluxo negativo de calor no solo . total de 10 leituras (W/m2)</th>\n",
       "      <th>Umidade relativa Média (%)</th>\n",
       "      <th>Temperatura do Ar Média (°C)</th>\n",
       "      <th>Temperatura do solo  1 Média (°C) à 3cm no solo</th>\n",
       "      <th>Temperatura do solo 2Média (°C) à 6cm no solo</th>\n",
       "      <th>Temperatura do solo 3Média (°C) Colocado sensor de UV em 31/07/09</th>\n",
       "      <th>Pressão (hPa)</th>\n",
       "      <th>Chuva total do período (mm)</th>\n",
       "    </tr>\n",
       "  </thead>\n",
       "  <tbody>\n",
       "    <tr>\n",
       "      <th>0</th>\n",
       "      <td>111</td>\n",
       "      <td>1997</td>\n",
       "      <td>1.0</td>\n",
       "      <td>10</td>\n",
       "      <td>1618.00</td>\n",
       "      <td>1115.000</td>\n",
       "      <td>8.32</td>\n",
       "      <td>0.0</td>\n",
       "      <td>0.0</td>\n",
       "      <td>0.0</td>\n",
       "      <td>-443.0</td>\n",
       "      <td>92.3</td>\n",
       "      <td>19.84</td>\n",
       "      <td>21.04</td>\n",
       "      <td>22.68</td>\n",
       "      <td>24.59</td>\n",
       "      <td>943.0</td>\n",
       "      <td>0</td>\n",
       "    </tr>\n",
       "    <tr>\n",
       "      <th>1</th>\n",
       "      <td>111</td>\n",
       "      <td>1997</td>\n",
       "      <td>1.0</td>\n",
       "      <td>20</td>\n",
       "      <td>0.99</td>\n",
       "      <td>0.763</td>\n",
       "      <td>20.59</td>\n",
       "      <td>0.0</td>\n",
       "      <td>0.0</td>\n",
       "      <td>0.0</td>\n",
       "      <td>-443.0</td>\n",
       "      <td>93.1</td>\n",
       "      <td>19.63</td>\n",
       "      <td>20.97</td>\n",
       "      <td>22.65</td>\n",
       "      <td>24.52</td>\n",
       "      <td>943.0</td>\n",
       "      <td>0</td>\n",
       "    </tr>\n",
       "  </tbody>\n",
       "</table>\n",
       "</div>"
      ],
      "text/plain": [
       "   Cod   Ano  Dia Juliano  Hora - minuto  \\\n",
       "0  111  1997          1.0             10   \n",
       "1  111  1997          1.0             20   \n",
       "\n",
       "   Veloc. Instantânea do Vento a 5 metros (m/s)  \\\n",
       "0                                       1618.00   \n",
       "1                                          0.99   \n",
       "\n",
       "   Veloc. Instantânea do Vento a 2 metros (m/s)  \\\n",
       "0                                      1115.000   \n",
       "1                                         0.763   \n",
       "\n",
       "   Direção do Vento no instante da aquisição (°)  \\\n",
       "0                                           8.32   \n",
       "1                                          20.59   \n",
       "\n",
       "   Radiação Incidente total de 10 leituras (KW/m2)  \\\n",
       "0                                              0.0   \n",
       "1                                              0.0   \n",
       "\n",
       "   Radiação Refletida Total de 10 leituras (KW/m2)  \\\n",
       "0                                              0.0   \n",
       "1                                              0.0   \n",
       "\n",
       "   Fluxo Positivo de calor no solo total de 10 leituras (W/m2)  \\\n",
       "0                                                0.0             \n",
       "1                                                0.0             \n",
       "\n",
       "   Fluxo negativo de calor no solo . total de 10 leituras (W/m2)  \\\n",
       "0                                             -443.0               \n",
       "1                                             -443.0               \n",
       "\n",
       "   Umidade relativa Média (%)  Temperatura do Ar Média (°C)  \\\n",
       "0                        92.3                         19.84   \n",
       "1                        93.1                         19.63   \n",
       "\n",
       "   Temperatura do solo  1 Média (°C) à 3cm no solo  \\\n",
       "0                                            21.04   \n",
       "1                                            20.97   \n",
       "\n",
       "   Temperatura do solo 2Média (°C) à 6cm no solo   \\\n",
       "0                                           22.68   \n",
       "1                                           22.65   \n",
       "\n",
       "  Temperatura do solo 3Média (°C) Colocado sensor de UV em 31/07/09  \\\n",
       "0                                              24.59                  \n",
       "1                                              24.52                  \n",
       "\n",
       "   Pressão (hPa) Chuva total do período (mm)  \n",
       "0          943.0                           0  \n",
       "1          943.0                           0  "
      ]
     },
     "execution_count": 82,
     "metadata": {},
     "output_type": "execute_result"
    }
   ],
   "source": [
    "full_111.head(2)"
   ]
  },
  {
   "cell_type": "code",
   "execution_count": 83,
   "metadata": {},
   "outputs": [
    {
     "data": {
      "text/html": [
       "<div>\n",
       "<style>\n",
       "    .dataframe thead tr:only-child th {\n",
       "        text-align: right;\n",
       "    }\n",
       "\n",
       "    .dataframe thead th {\n",
       "        text-align: left;\n",
       "    }\n",
       "\n",
       "    .dataframe tbody tr th {\n",
       "        vertical-align: top;\n",
       "    }\n",
       "</style>\n",
       "<table border=\"1\" class=\"dataframe\">\n",
       "  <thead>\n",
       "    <tr style=\"text-align: right;\">\n",
       "      <th></th>\n",
       "      <th>Cod</th>\n",
       "      <th>Ano</th>\n",
       "      <th>Dia Juliano</th>\n",
       "      <th>Hora - minuto</th>\n",
       "      <th>Veloc. máxima do Vento a 5 metros (m/s)</th>\n",
       "      <th>Veloc. máxima do Vento a 2 metros (m/s)</th>\n",
       "      <th>Direção do Vento no instante da veloc. Máx.(°)</th>\n",
       "      <th>Horário de ocorrência vr máx. veloc. do vento</th>\n",
       "      <th>Radiação Incidente Total do dia (KW/m2)</th>\n",
       "      <th>Radiação Refletida Total do dia (KW/m2)</th>\n",
       "      <th>...</th>\n",
       "      <th>Fluxo Negativo de calor no solo. Total do dia (KW/m2)</th>\n",
       "      <th>Temperatura do Ar  Máxima do dia (°C)</th>\n",
       "      <th>Horário de ocorrência da Temp. Ar Máxima(°C)</th>\n",
       "      <th>Temperatura do Ar Mínima do dia (°C)</th>\n",
       "      <th>Horário de ocorrência da Temp. Ar Minima</th>\n",
       "      <th>Temperatura do Solo 1 Máxima do dia (°C)</th>\n",
       "      <th>Horário de ocorrência da Temp. Solo 1 Máxima.</th>\n",
       "      <th>Temperatura do Solo 1 Mínima do dia (°C)</th>\n",
       "      <th>Horário de ocorrência da Temp. Solo 1 minima</th>\n",
       "      <th>Chuva total do dia (mm)</th>\n",
       "    </tr>\n",
       "  </thead>\n",
       "  <tbody>\n",
       "    <tr>\n",
       "      <th>0</th>\n",
       "      <td>222</td>\n",
       "      <td>1997</td>\n",
       "      <td>1</td>\n",
       "      <td>2400</td>\n",
       "      <td>6031.0</td>\n",
       "      <td>2677.0</td>\n",
       "      <td>99.6</td>\n",
       "      <td>1923</td>\n",
       "      <td>270.8</td>\n",
       "      <td>53.81</td>\n",
       "      <td>...</td>\n",
       "      <td>-34.76</td>\n",
       "      <td>30.16</td>\n",
       "      <td>1255</td>\n",
       "      <td>18.50</td>\n",
       "      <td>551</td>\n",
       "      <td>34.53</td>\n",
       "      <td>1258</td>\n",
       "      <td>19.15</td>\n",
       "      <td>606</td>\n",
       "      <td>0.0</td>\n",
       "    </tr>\n",
       "    <tr>\n",
       "      <th>1</th>\n",
       "      <td>222</td>\n",
       "      <td>1997</td>\n",
       "      <td>2</td>\n",
       "      <td>2400</td>\n",
       "      <td>4756.0</td>\n",
       "      <td>1758.0</td>\n",
       "      <td>119.5</td>\n",
       "      <td>45</td>\n",
       "      <td>165.3</td>\n",
       "      <td>27.46</td>\n",
       "      <td>...</td>\n",
       "      <td>-26.86</td>\n",
       "      <td>26.15</td>\n",
       "      <td>1417</td>\n",
       "      <td>19.15</td>\n",
       "      <td>2355</td>\n",
       "      <td>27.66</td>\n",
       "      <td>1425</td>\n",
       "      <td>19.65</td>\n",
       "      <td>2352</td>\n",
       "      <td>0.0</td>\n",
       "    </tr>\n",
       "  </tbody>\n",
       "</table>\n",
       "<p>2 rows × 21 columns</p>\n",
       "</div>"
      ],
      "text/plain": [
       "   Cod   Ano Dia Juliano Hora - minuto  \\\n",
       "0  222  1997           1          2400   \n",
       "1  222  1997           2          2400   \n",
       "\n",
       "   Veloc. máxima do Vento a 5 metros (m/s)  \\\n",
       "0                                   6031.0   \n",
       "1                                   4756.0   \n",
       "\n",
       "   Veloc. máxima do Vento a 2 metros (m/s)  \\\n",
       "0                                   2677.0   \n",
       "1                                   1758.0   \n",
       "\n",
       "   Direção do Vento no instante da veloc. Máx.(°)  \\\n",
       "0                                            99.6   \n",
       "1                                           119.5   \n",
       "\n",
       "  Horário de ocorrência vr máx. veloc. do vento  \\\n",
       "0                                          1923   \n",
       "1                                            45   \n",
       "\n",
       "   Radiação Incidente Total do dia (KW/m2)  \\\n",
       "0                                    270.8   \n",
       "1                                    165.3   \n",
       "\n",
       "   Radiação Refletida Total do dia (KW/m2)           ...            \\\n",
       "0                                    53.81           ...             \n",
       "1                                    27.46           ...             \n",
       "\n",
       "   Fluxo Negativo de calor no solo. Total do dia (KW/m2)  \\\n",
       "0                                             -34.76       \n",
       "1                                             -26.86       \n",
       "\n",
       "  Temperatura do Ar  Máxima do dia (°C)  \\\n",
       "0                                 30.16   \n",
       "1                                 26.15   \n",
       "\n",
       "  Horário de ocorrência da Temp. Ar Máxima(°C)  \\\n",
       "0                                         1255   \n",
       "1                                         1417   \n",
       "\n",
       "  Temperatura do Ar Mínima do dia (°C)  \\\n",
       "0                                18.50   \n",
       "1                                19.15   \n",
       "\n",
       "   Horário de ocorrência da Temp. Ar Minima  \\\n",
       "0                                       551   \n",
       "1                                      2355   \n",
       "\n",
       "  Temperatura do Solo 1 Máxima do dia (°C)  \\\n",
       "0                                    34.53   \n",
       "1                                    27.66   \n",
       "\n",
       "  Horário de ocorrência da Temp. Solo 1 Máxima.  \\\n",
       "0                                          1258   \n",
       "1                                          1425   \n",
       "\n",
       "  Temperatura do Solo 1 Mínima do dia (°C)  \\\n",
       "0                                    19.15   \n",
       "1                                    19.65   \n",
       "\n",
       "   Horário de ocorrência da Temp. Solo 1 minima Chuva total do dia (mm)  \n",
       "0                                           606                     0.0  \n",
       "1                                          2352                     0.0  \n",
       "\n",
       "[2 rows x 21 columns]"
      ]
     },
     "execution_count": 83,
     "metadata": {},
     "output_type": "execute_result"
    }
   ],
   "source": [
    "full_222.head(2)"
   ]
  },
  {
   "cell_type": "code",
   "execution_count": 84,
   "metadata": {},
   "outputs": [
    {
     "data": {
      "text/html": [
       "<div>\n",
       "<style>\n",
       "    .dataframe thead tr:only-child th {\n",
       "        text-align: right;\n",
       "    }\n",
       "\n",
       "    .dataframe thead th {\n",
       "        text-align: left;\n",
       "    }\n",
       "\n",
       "    .dataframe tbody tr th {\n",
       "        vertical-align: top;\n",
       "    }\n",
       "</style>\n",
       "<table border=\"1\" class=\"dataframe\">\n",
       "  <thead>\n",
       "    <tr style=\"text-align: right;\">\n",
       "      <th></th>\n",
       "      <th>Cod</th>\n",
       "      <th>Ano</th>\n",
       "      <th>Dia Juliano</th>\n",
       "      <th>Hora - minuto</th>\n",
       "      <th>Veloc. Instantânea do Vento a 5 metros (m/s)</th>\n",
       "      <th>Veloc. Instantânea do Vento a 2 metros (m/s)</th>\n",
       "      <th>Direção do Vento no instantânea  (°)</th>\n",
       "      <th>Umidade relativa Instantânea  (%)</th>\n",
       "      <th>Temperatura do Ar Instantânea (°C)</th>\n",
       "      <th>Pressão</th>\n",
       "    </tr>\n",
       "  </thead>\n",
       "  <tbody>\n",
       "    <tr>\n",
       "      <th>0</th>\n",
       "      <td>333</td>\n",
       "      <td>1997</td>\n",
       "      <td>1</td>\n",
       "      <td>700</td>\n",
       "      <td>3344.0</td>\n",
       "      <td>1973.0</td>\n",
       "      <td>89.10</td>\n",
       "      <td>89.70</td>\n",
       "      <td>20.47</td>\n",
       "      <td>942</td>\n",
       "    </tr>\n",
       "    <tr>\n",
       "      <th>1</th>\n",
       "      <td>333</td>\n",
       "      <td>1997</td>\n",
       "      <td>1</td>\n",
       "      <td>900</td>\n",
       "      <td>2618.0</td>\n",
       "      <td>1544.0</td>\n",
       "      <td>185.60</td>\n",
       "      <td>80.20</td>\n",
       "      <td>23.38</td>\n",
       "      <td>944</td>\n",
       "    </tr>\n",
       "    <tr>\n",
       "      <th>2</th>\n",
       "      <td>333</td>\n",
       "      <td>1997</td>\n",
       "      <td>1</td>\n",
       "      <td>1400</td>\n",
       "      <td>2422.0</td>\n",
       "      <td>1422.0</td>\n",
       "      <td>44.37</td>\n",
       "      <td>62.04</td>\n",
       "      <td>28.23</td>\n",
       "      <td>942</td>\n",
       "    </tr>\n",
       "    <tr>\n",
       "      <th>3</th>\n",
       "      <td>333</td>\n",
       "      <td>1997</td>\n",
       "      <td>1</td>\n",
       "      <td>1500</td>\n",
       "      <td>2089.0</td>\n",
       "      <td>1253.0</td>\n",
       "      <td>37.73</td>\n",
       "      <td>62.90</td>\n",
       "      <td>27.86</td>\n",
       "      <td>941</td>\n",
       "    </tr>\n",
       "    <tr>\n",
       "      <th>4</th>\n",
       "      <td>333</td>\n",
       "      <td>1997</td>\n",
       "      <td>1</td>\n",
       "      <td>2100</td>\n",
       "      <td>4501.0</td>\n",
       "      <td>2509.0</td>\n",
       "      <td>138.60</td>\n",
       "      <td>82.60</td>\n",
       "      <td>21.21</td>\n",
       "      <td>944</td>\n",
       "    </tr>\n",
       "  </tbody>\n",
       "</table>\n",
       "</div>"
      ],
      "text/plain": [
       "   Cod   Ano Dia Juliano Hora - minuto  \\\n",
       "0  333  1997           1           700   \n",
       "1  333  1997           1           900   \n",
       "2  333  1997           1          1400   \n",
       "3  333  1997           1          1500   \n",
       "4  333  1997           1          2100   \n",
       "\n",
       "   Veloc. Instantânea do Vento a 5 metros (m/s)  \\\n",
       "0                                        3344.0   \n",
       "1                                        2618.0   \n",
       "2                                        2422.0   \n",
       "3                                        2089.0   \n",
       "4                                        4501.0   \n",
       "\n",
       "   Veloc. Instantânea do Vento a 2 metros (m/s)  \\\n",
       "0                                        1973.0   \n",
       "1                                        1544.0   \n",
       "2                                        1422.0   \n",
       "3                                        1253.0   \n",
       "4                                        2509.0   \n",
       "\n",
       "   Direção do Vento no instantânea  (°)  Umidade relativa Instantânea  (%)  \\\n",
       "0                                 89.10                              89.70   \n",
       "1                                185.60                              80.20   \n",
       "2                                 44.37                              62.04   \n",
       "3                                 37.73                              62.90   \n",
       "4                                138.60                              82.60   \n",
       "\n",
       "   Temperatura do Ar Instantânea (°C) Pressão  \n",
       "0                               20.47     942  \n",
       "1                               23.38     944  \n",
       "2                               28.23     942  \n",
       "3                               27.86     941  \n",
       "4                               21.21     944  "
      ]
     },
     "execution_count": 84,
     "metadata": {},
     "output_type": "execute_result"
    }
   ],
   "source": [
    "full_333.head()"
   ]
  },
  {
   "cell_type": "code",
   "execution_count": 86,
   "metadata": {},
   "outputs": [
    {
     "data": {
      "text/html": [
       "<div>\n",
       "<style>\n",
       "    .dataframe thead tr:only-child th {\n",
       "        text-align: right;\n",
       "    }\n",
       "\n",
       "    .dataframe thead th {\n",
       "        text-align: left;\n",
       "    }\n",
       "\n",
       "    .dataframe tbody tr th {\n",
       "        vertical-align: top;\n",
       "    }\n",
       "</style>\n",
       "<table border=\"1\" class=\"dataframe\">\n",
       "  <thead>\n",
       "    <tr style=\"text-align: right;\">\n",
       "      <th></th>\n",
       "      <th>Cod</th>\n",
       "      <th>Ano</th>\n",
       "      <th>Dia Juliano</th>\n",
       "      <th>Hora - minuto</th>\n",
       "      <th>Chuva das 7 h as 7 h</th>\n",
       "      <th>Temperatura do Ar máxima do dia °C</th>\n",
       "      <th>Horário de ocorrência da Temp. Ar máxima</th>\n",
       "      <th>Temperatura do Ar Minima do dia (°C)</th>\n",
       "      <th>Horário de ocorrência da Temp. Ar minima</th>\n",
       "      <th>Umidade máxima</th>\n",
       "      <th>Hora</th>\n",
       "      <th>Umidade mínima</th>\n",
       "      <th>Hora.1</th>\n",
       "    </tr>\n",
       "  </thead>\n",
       "  <tbody>\n",
       "    <tr>\n",
       "      <th>0</th>\n",
       "      <td>265</td>\n",
       "      <td>1997</td>\n",
       "      <td>1</td>\n",
       "      <td>700</td>\n",
       "      <td>0.0</td>\n",
       "      <td>31.11</td>\n",
       "      <td>1356</td>\n",
       "      <td>18.50</td>\n",
       "      <td>551.0</td>\n",
       "      <td>NaN</td>\n",
       "      <td>NaN</td>\n",
       "      <td>NaN</td>\n",
       "      <td>NaN</td>\n",
       "    </tr>\n",
       "    <tr>\n",
       "      <th>1</th>\n",
       "      <td>265</td>\n",
       "      <td>1997</td>\n",
       "      <td>2</td>\n",
       "      <td>700</td>\n",
       "      <td>0.0</td>\n",
       "      <td>30.16</td>\n",
       "      <td>1255</td>\n",
       "      <td>19.21</td>\n",
       "      <td>510.0</td>\n",
       "      <td>NaN</td>\n",
       "      <td>NaN</td>\n",
       "      <td>NaN</td>\n",
       "      <td>NaN</td>\n",
       "    </tr>\n",
       "    <tr>\n",
       "      <th>2</th>\n",
       "      <td>265</td>\n",
       "      <td>1997</td>\n",
       "      <td>3</td>\n",
       "      <td>700</td>\n",
       "      <td>0.0</td>\n",
       "      <td>26.15</td>\n",
       "      <td>1417</td>\n",
       "      <td>17.88</td>\n",
       "      <td>533.0</td>\n",
       "      <td>NaN</td>\n",
       "      <td>NaN</td>\n",
       "      <td>NaN</td>\n",
       "      <td>NaN</td>\n",
       "    </tr>\n",
       "    <tr>\n",
       "      <th>3</th>\n",
       "      <td>265</td>\n",
       "      <td>1997</td>\n",
       "      <td>4</td>\n",
       "      <td>700</td>\n",
       "      <td>0.0</td>\n",
       "      <td>25.74</td>\n",
       "      <td>1208</td>\n",
       "      <td>17.81</td>\n",
       "      <td>126.0</td>\n",
       "      <td>NaN</td>\n",
       "      <td>NaN</td>\n",
       "      <td>NaN</td>\n",
       "      <td>NaN</td>\n",
       "    </tr>\n",
       "    <tr>\n",
       "      <th>4</th>\n",
       "      <td>265</td>\n",
       "      <td>1997</td>\n",
       "      <td>5</td>\n",
       "      <td>700</td>\n",
       "      <td>0.0</td>\n",
       "      <td>29.69</td>\n",
       "      <td>1625</td>\n",
       "      <td>17.95</td>\n",
       "      <td>535.0</td>\n",
       "      <td>NaN</td>\n",
       "      <td>NaN</td>\n",
       "      <td>NaN</td>\n",
       "      <td>NaN</td>\n",
       "    </tr>\n",
       "  </tbody>\n",
       "</table>\n",
       "</div>"
      ],
      "text/plain": [
       "   Cod   Ano Dia Juliano Hora - minuto  Chuva das 7 h as 7 h  \\\n",
       "0  265  1997           1           700                   0.0   \n",
       "1  265  1997           2           700                   0.0   \n",
       "2  265  1997           3           700                   0.0   \n",
       "3  265  1997           4           700                   0.0   \n",
       "4  265  1997           5           700                   0.0   \n",
       "\n",
       "   Temperatura do Ar máxima do dia °C  \\\n",
       "0                               31.11   \n",
       "1                               30.16   \n",
       "2                               26.15   \n",
       "3                               25.74   \n",
       "4                               29.69   \n",
       "\n",
       "  Horário de ocorrência da Temp. Ar máxima  \\\n",
       "0                                     1356   \n",
       "1                                     1255   \n",
       "2                                     1417   \n",
       "3                                     1208   \n",
       "4                                     1625   \n",
       "\n",
       "   Temperatura do Ar Minima do dia (°C)  \\\n",
       "0                                 18.50   \n",
       "1                                 19.21   \n",
       "2                                 17.88   \n",
       "3                                 17.81   \n",
       "4                                 17.95   \n",
       "\n",
       "   Horário de ocorrência da Temp. Ar minima  Umidade máxima  Hora  \\\n",
       "0                                     551.0             NaN   NaN   \n",
       "1                                     510.0             NaN   NaN   \n",
       "2                                     533.0             NaN   NaN   \n",
       "3                                     126.0             NaN   NaN   \n",
       "4                                     535.0             NaN   NaN   \n",
       "\n",
       "   Umidade mínima  Hora.1  \n",
       "0             NaN     NaN  \n",
       "1             NaN     NaN  \n",
       "2             NaN     NaN  \n",
       "3             NaN     NaN  \n",
       "4             NaN     NaN  "
      ]
     },
     "execution_count": 86,
     "metadata": {},
     "output_type": "execute_result"
    }
   ],
   "source": [
    "full_265.head()"
   ]
  },
  {
   "cell_type": "markdown",
   "metadata": {},
   "source": [
    "### 3.1. Analise para a base 111"
   ]
  },
  {
   "cell_type": "code",
   "execution_count": 87,
   "metadata": {},
   "outputs": [
    {
     "data": {
      "text/plain": [
       "Index(['Cod', 'Ano', 'Dia Juliano', 'Hora - minuto',\n",
       "       'Veloc. Instantânea do Vento a 5 metros (m/s)',\n",
       "       'Veloc. Instantânea do Vento a 2 metros (m/s)',\n",
       "       'Direção do Vento no instante da aquisição (°)',\n",
       "       'Radiação Incidente total de 10 leituras (KW/m2)',\n",
       "       'Radiação Refletida Total de 10 leituras (KW/m2)',\n",
       "       'Fluxo Positivo de calor no solo total de 10 leituras (W/m2)',\n",
       "       'Fluxo negativo de calor no solo . total de 10 leituras (W/m2)',\n",
       "       'Umidade relativa Média (%)', 'Temperatura do Ar Média (°C)',\n",
       "       'Temperatura do solo  1 Média (°C) à 3cm no solo',\n",
       "       'Temperatura do solo 2Média (°C) à 6cm no solo ',\n",
       "       'Temperatura do solo 3Média (°C) Colocado sensor de UV em 31/07/09',\n",
       "       'Pressão (hPa)', 'Chuva total do período (mm)'],\n",
       "      dtype='object')"
      ]
     },
     "execution_count": 87,
     "metadata": {},
     "output_type": "execute_result"
    }
   ],
   "source": [
    "full_111.columns"
   ]
  },
  {
   "cell_type": "code",
   "execution_count": 161,
   "metadata": {},
   "outputs": [
    {
     "data": {
      "text/plain": [
       "array([111, 333, 265, 222], dtype=int64)"
      ]
     },
     "execution_count": 161,
     "metadata": {},
     "output_type": "execute_result"
    }
   ],
   "source": [
    "full_111.Cod.unique()"
   ]
  },
  {
   "cell_type": "markdown",
   "metadata": {},
   "source": [
    "#### Aparentemente algo está errado em 2005, é só a marcação de código ou os dados também?\n",
    "\n",
    "Dentro da base 111 em 2005 existe Cod que são 222, 333 e 265"
   ]
  },
  {
   "cell_type": "code",
   "execution_count": 103,
   "metadata": {},
   "outputs": [
    {
     "name": "stdout",
     "output_type": "stream",
     "text": [
      "[2005]\n",
      "[2005]\n",
      "[2005]\n"
     ]
    }
   ],
   "source": [
    "print(full_111[full_111.Cod == 222]['Ano'].unique())\n",
    "print(full_111[full_111.Cod == 333]['Ano'].unique())\n",
    "print(full_111[full_111.Cod == 265]['Ano'].unique())"
   ]
  },
  {
   "cell_type": "markdown",
   "metadata": {},
   "source": [
    "### Checando valores missings"
   ]
  },
  {
   "cell_type": "code",
   "execution_count": 104,
   "metadata": {},
   "outputs": [
    {
     "data": {
      "text/plain": [
       "Cod                                                                     0\n",
       "Ano                                                                     0\n",
       "Dia Juliano                                                             0\n",
       "Hora - minuto                                                           0\n",
       "Veloc. Instantânea do Vento a 5 metros (m/s)                            0\n",
       "Veloc. Instantânea do Vento a 2 metros (m/s)                            0\n",
       "Direção do Vento no instante da aquisição (°)                           0\n",
       "Radiação Incidente total de 10 leituras (KW/m2)                         0\n",
       "Radiação Refletida Total de 10 leituras (KW/m2)                         0\n",
       "Fluxo Positivo de calor no solo total de 10 leituras (W/m2)             0\n",
       "Fluxo negativo de calor no solo . total de 10 leituras (W/m2)        1825\n",
       "Umidade relativa Média (%)                                           1826\n",
       "Temperatura do Ar Média (°C)                                         1826\n",
       "Temperatura do solo  1 Média (°C) à 3cm no solo                      2191\n",
       "Temperatura do solo 2Média (°C) à 6cm no solo                        2191\n",
       "Temperatura do solo 3Média (°C) Colocado sensor de UV em 31/07/09    2191\n",
       "Pressão (hPa)                                                        2191\n",
       "Chuva total do período (mm)                                          2191\n",
       "dtype: int64"
      ]
     },
     "execution_count": 104,
     "metadata": {},
     "output_type": "execute_result"
    }
   ],
   "source": [
    "full_111.isnull().sum()"
   ]
  },
  {
   "cell_type": "markdown",
   "metadata": {},
   "source": [
    "Pequeno teste de tendência de temperatura, onde foi visto que existem valores fora das escalas esperadas"
   ]
  },
  {
   "cell_type": "code",
   "execution_count": 134,
   "metadata": {},
   "outputs": [],
   "source": [
    "# temp_2001 = full_111[full_111.Ano == 2015]['Temperatura do Ar Média (°C)']"
   ]
  },
  {
   "cell_type": "code",
   "execution_count": 159,
   "metadata": {},
   "outputs": [],
   "source": [
    "# plt.figure(figsize=(20,6))\n",
    "# plt.plot(temp_2001[(temp_2001<50) & (temp_2001 >=0)])"
   ]
  },
  {
   "cell_type": "markdown",
   "metadata": {},
   "source": [
    "### 3.2. Informações das variáveis:"
   ]
  },
  {
   "cell_type": "code",
   "execution_count": 154,
   "metadata": {},
   "outputs": [
    {
     "data": {
      "text/html": [
       "<div>\n",
       "<style>\n",
       "    .dataframe thead tr:only-child th {\n",
       "        text-align: right;\n",
       "    }\n",
       "\n",
       "    .dataframe thead th {\n",
       "        text-align: left;\n",
       "    }\n",
       "\n",
       "    .dataframe tbody tr th {\n",
       "        vertical-align: top;\n",
       "    }\n",
       "</style>\n",
       "<table border=\"1\" class=\"dataframe\">\n",
       "  <thead>\n",
       "    <tr style=\"text-align: right;\">\n",
       "      <th></th>\n",
       "      <th>Cod</th>\n",
       "      <th>Ano</th>\n",
       "      <th>Dia Juliano</th>\n",
       "      <th>Hora - minuto</th>\n",
       "      <th>Veloc. Instantânea do Vento a 5 metros (m/s)</th>\n",
       "      <th>Veloc. Instantânea do Vento a 2 metros (m/s)</th>\n",
       "      <th>Direção do Vento no instante da aquisição (°)</th>\n",
       "      <th>Radiação Incidente total de 10 leituras (KW/m2)</th>\n",
       "      <th>Radiação Refletida Total de 10 leituras (KW/m2)</th>\n",
       "      <th>Fluxo Positivo de calor no solo total de 10 leituras (W/m2)</th>\n",
       "      <th>Fluxo negativo de calor no solo . total de 10 leituras (W/m2)</th>\n",
       "      <th>Umidade relativa Média (%)</th>\n",
       "      <th>Temperatura do Ar Média (°C)</th>\n",
       "      <th>Temperatura do solo  1 Média (°C) à 3cm no solo</th>\n",
       "      <th>Temperatura do solo 2Média (°C) à 6cm no solo</th>\n",
       "      <th>Pressão (hPa)</th>\n",
       "    </tr>\n",
       "  </thead>\n",
       "  <tbody>\n",
       "    <tr>\n",
       "      <th>count</th>\n",
       "      <td>997705.000000</td>\n",
       "      <td>997705.000000</td>\n",
       "      <td>997705.000000</td>\n",
       "      <td>997705.000000</td>\n",
       "      <td>997705.000000</td>\n",
       "      <td>997705.000000</td>\n",
       "      <td>997705.000000</td>\n",
       "      <td>997705.000000</td>\n",
       "      <td>997705.000000</td>\n",
       "      <td>997705.000000</td>\n",
       "      <td>995880.000000</td>\n",
       "      <td>995879.000000</td>\n",
       "      <td>995879.000000</td>\n",
       "      <td>995514.000000</td>\n",
       "      <td>995514.000000</td>\n",
       "      <td>995514.000000</td>\n",
       "    </tr>\n",
       "    <tr>\n",
       "      <th>mean</th>\n",
       "      <td>111.503029</td>\n",
       "      <td>2006.049183</td>\n",
       "      <td>183.574166</td>\n",
       "      <td>1192.172977</td>\n",
       "      <td>1434.735636</td>\n",
       "      <td>877.778706</td>\n",
       "      <td>273.632008</td>\n",
       "      <td>791.007292</td>\n",
       "      <td>280.373982</td>\n",
       "      <td>375.408254</td>\n",
       "      <td>-1383.991541</td>\n",
       "      <td>74.045735</td>\n",
       "      <td>25.871349</td>\n",
       "      <td>1037.172846</td>\n",
       "      <td>997.479443</td>\n",
       "      <td>946.433590</td>\n",
       "    </tr>\n",
       "    <tr>\n",
       "      <th>std</th>\n",
       "      <td>10.152882</td>\n",
       "      <td>5.476202</td>\n",
       "      <td>105.365608</td>\n",
       "      <td>692.751398</td>\n",
       "      <td>1332.101405</td>\n",
       "      <td>1114.843558</td>\n",
       "      <td>669.646808</td>\n",
       "      <td>1644.318924</td>\n",
       "      <td>910.445572</td>\n",
       "      <td>1150.692398</td>\n",
       "      <td>2581.836905</td>\n",
       "      <td>27.871503</td>\n",
       "      <td>238.368677</td>\n",
       "      <td>2460.041175</td>\n",
       "      <td>2417.844600</td>\n",
       "      <td>82.999421</td>\n",
       "    </tr>\n",
       "    <tr>\n",
       "      <th>min</th>\n",
       "      <td>111.000000</td>\n",
       "      <td>1997.000000</td>\n",
       "      <td>-53.360000</td>\n",
       "      <td>10.000000</td>\n",
       "      <td>-6999.000000</td>\n",
       "      <td>0.000000</td>\n",
       "      <td>0.000000</td>\n",
       "      <td>-6999.000000</td>\n",
       "      <td>0.000000</td>\n",
       "      <td>0.000000</td>\n",
       "      <td>-6999.000000</td>\n",
       "      <td>-6999.000000</td>\n",
       "      <td>-6999.000000</td>\n",
       "      <td>-6999.000000</td>\n",
       "      <td>-6999.000000</td>\n",
       "      <td>-6999.000000</td>\n",
       "    </tr>\n",
       "    <tr>\n",
       "      <th>25%</th>\n",
       "      <td>111.000000</td>\n",
       "      <td>2001.000000</td>\n",
       "      <td>93.000000</td>\n",
       "      <td>610.000000</td>\n",
       "      <td>0.959000</td>\n",
       "      <td>0.539000</td>\n",
       "      <td>93.100000</td>\n",
       "      <td>0.000000</td>\n",
       "      <td>0.000000</td>\n",
       "      <td>0.000000</td>\n",
       "      <td>-430.200000</td>\n",
       "      <td>60.590000</td>\n",
       "      <td>18.140000</td>\n",
       "      <td>20.250000</td>\n",
       "      <td>20.950000</td>\n",
       "      <td>943.000000</td>\n",
       "    </tr>\n",
       "    <tr>\n",
       "      <th>50%</th>\n",
       "      <td>111.000000</td>\n",
       "      <td>2006.000000</td>\n",
       "      <td>184.000000</td>\n",
       "      <td>1210.000000</td>\n",
       "      <td>1481.000000</td>\n",
       "      <td>1.010000</td>\n",
       "      <td>155.500000</td>\n",
       "      <td>0.000000</td>\n",
       "      <td>0.000000</td>\n",
       "      <td>0.000000</td>\n",
       "      <td>-228.600000</td>\n",
       "      <td>77.500000</td>\n",
       "      <td>21.140000</td>\n",
       "      <td>24.110000</td>\n",
       "      <td>24.610000</td>\n",
       "      <td>947.000000</td>\n",
       "    </tr>\n",
       "    <tr>\n",
       "      <th>75%</th>\n",
       "      <td>111.000000</td>\n",
       "      <td>2011.000000</td>\n",
       "      <td>275.000000</td>\n",
       "      <td>1810.000000</td>\n",
       "      <td>2199.000000</td>\n",
       "      <td>1696.000000</td>\n",
       "      <td>259.400000</td>\n",
       "      <td>471.800000</td>\n",
       "      <td>0.919000</td>\n",
       "      <td>217.000000</td>\n",
       "      <td>0.000000</td>\n",
       "      <td>89.200000</td>\n",
       "      <td>25.100000</td>\n",
       "      <td>29.820000</td>\n",
       "      <td>28.500000</td>\n",
       "      <td>952.000000</td>\n",
       "    </tr>\n",
       "    <tr>\n",
       "      <th>max</th>\n",
       "      <td>333.000000</td>\n",
       "      <td>2139.000000</td>\n",
       "      <td>654.000000</td>\n",
       "      <td>6640.000000</td>\n",
       "      <td>6996.000000</td>\n",
       "      <td>6999.000000</td>\n",
       "      <td>6999.000000</td>\n",
       "      <td>6999.000000</td>\n",
       "      <td>6999.000000</td>\n",
       "      <td>6999.000000</td>\n",
       "      <td>6538.000000</td>\n",
       "      <td>6836.000000</td>\n",
       "      <td>182266.000000</td>\n",
       "      <td>6999.000000</td>\n",
       "      <td>6999.000000</td>\n",
       "      <td>2802.000000</td>\n",
       "    </tr>\n",
       "  </tbody>\n",
       "</table>\n",
       "</div>"
      ],
      "text/plain": [
       "                 Cod            Ano    Dia Juliano  Hora - minuto  \\\n",
       "count  997705.000000  997705.000000  997705.000000  997705.000000   \n",
       "mean      111.503029    2006.049183     183.574166    1192.172977   \n",
       "std        10.152882       5.476202     105.365608     692.751398   \n",
       "min       111.000000    1997.000000     -53.360000      10.000000   \n",
       "25%       111.000000    2001.000000      93.000000     610.000000   \n",
       "50%       111.000000    2006.000000     184.000000    1210.000000   \n",
       "75%       111.000000    2011.000000     275.000000    1810.000000   \n",
       "max       333.000000    2139.000000     654.000000    6640.000000   \n",
       "\n",
       "       Veloc. Instantânea do Vento a 5 metros (m/s)  \\\n",
       "count                                 997705.000000   \n",
       "mean                                    1434.735636   \n",
       "std                                     1332.101405   \n",
       "min                                    -6999.000000   \n",
       "25%                                        0.959000   \n",
       "50%                                     1481.000000   \n",
       "75%                                     2199.000000   \n",
       "max                                     6996.000000   \n",
       "\n",
       "       Veloc. Instantânea do Vento a 2 metros (m/s)  \\\n",
       "count                                 997705.000000   \n",
       "mean                                     877.778706   \n",
       "std                                     1114.843558   \n",
       "min                                        0.000000   \n",
       "25%                                        0.539000   \n",
       "50%                                        1.010000   \n",
       "75%                                     1696.000000   \n",
       "max                                     6999.000000   \n",
       "\n",
       "       Direção do Vento no instante da aquisição (°)  \\\n",
       "count                                  997705.000000   \n",
       "mean                                      273.632008   \n",
       "std                                       669.646808   \n",
       "min                                         0.000000   \n",
       "25%                                        93.100000   \n",
       "50%                                       155.500000   \n",
       "75%                                       259.400000   \n",
       "max                                      6999.000000   \n",
       "\n",
       "       Radiação Incidente total de 10 leituras (KW/m2)  \\\n",
       "count                                    997705.000000   \n",
       "mean                                        791.007292   \n",
       "std                                        1644.318924   \n",
       "min                                       -6999.000000   \n",
       "25%                                           0.000000   \n",
       "50%                                           0.000000   \n",
       "75%                                         471.800000   \n",
       "max                                        6999.000000   \n",
       "\n",
       "       Radiação Refletida Total de 10 leituras (KW/m2)  \\\n",
       "count                                    997705.000000   \n",
       "mean                                        280.373982   \n",
       "std                                         910.445572   \n",
       "min                                           0.000000   \n",
       "25%                                           0.000000   \n",
       "50%                                           0.000000   \n",
       "75%                                           0.919000   \n",
       "max                                        6999.000000   \n",
       "\n",
       "       Fluxo Positivo de calor no solo total de 10 leituras (W/m2)  \\\n",
       "count                                      997705.000000             \n",
       "mean                                          375.408254             \n",
       "std                                          1150.692398             \n",
       "min                                             0.000000             \n",
       "25%                                             0.000000             \n",
       "50%                                             0.000000             \n",
       "75%                                           217.000000             \n",
       "max                                          6999.000000             \n",
       "\n",
       "       Fluxo negativo de calor no solo . total de 10 leituras (W/m2)  \\\n",
       "count                                      995880.000000               \n",
       "mean                                        -1383.991541               \n",
       "std                                          2581.836905               \n",
       "min                                         -6999.000000               \n",
       "25%                                          -430.200000               \n",
       "50%                                          -228.600000               \n",
       "75%                                             0.000000               \n",
       "max                                          6538.000000               \n",
       "\n",
       "       Umidade relativa Média (%)  Temperatura do Ar Média (°C)  \\\n",
       "count               995879.000000                 995879.000000   \n",
       "mean                    74.045735                     25.871349   \n",
       "std                     27.871503                    238.368677   \n",
       "min                  -6999.000000                  -6999.000000   \n",
       "25%                     60.590000                     18.140000   \n",
       "50%                     77.500000                     21.140000   \n",
       "75%                     89.200000                     25.100000   \n",
       "max                   6836.000000                 182266.000000   \n",
       "\n",
       "       Temperatura do solo  1 Média (°C) à 3cm no solo  \\\n",
       "count                                    995514.000000   \n",
       "mean                                       1037.172846   \n",
       "std                                        2460.041175   \n",
       "min                                       -6999.000000   \n",
       "25%                                          20.250000   \n",
       "50%                                          24.110000   \n",
       "75%                                          29.820000   \n",
       "max                                        6999.000000   \n",
       "\n",
       "       Temperatura do solo 2Média (°C) à 6cm no solo   Pressão (hPa)  \n",
       "count                                   995514.000000  995514.000000  \n",
       "mean                                       997.479443     946.433590  \n",
       "std                                       2417.844600      82.999421  \n",
       "min                                      -6999.000000   -6999.000000  \n",
       "25%                                         20.950000     943.000000  \n",
       "50%                                         24.610000     947.000000  \n",
       "75%                                         28.500000     952.000000  \n",
       "max                                       6999.000000    2802.000000  "
      ]
     },
     "execution_count": 154,
     "metadata": {},
     "output_type": "execute_result"
    }
   ],
   "source": [
    "full_111.describe()"
   ]
  },
  {
   "cell_type": "markdown",
   "metadata": {},
   "source": [
    "O que significa esses valores absurdos? 6999 e 0 6999 e demias valores totalmente fora de escala para a variável? é algum tipo de missing ou erro no equipamento?\n"
   ]
  },
  {
   "cell_type": "code",
   "execution_count": null,
   "metadata": {
    "collapsed": true
   },
   "outputs": [],
   "source": []
  },
  {
   "cell_type": "code",
   "execution_count": null,
   "metadata": {
    "collapsed": true
   },
   "outputs": [],
   "source": []
  }
 ],
 "metadata": {
  "kernelspec": {
   "display_name": "Python 3",
   "language": "python",
   "name": "python3"
  },
  "language_info": {
   "codemirror_mode": {
    "name": "ipython",
    "version": 3
   },
   "file_extension": ".py",
   "mimetype": "text/x-python",
   "name": "python",
   "nbconvert_exporter": "python",
   "pygments_lexer": "ipython3",
   "version": "3.6.1"
  }
 },
 "nbformat": 4,
 "nbformat_minor": 2
}
